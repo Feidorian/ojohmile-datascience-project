{
 "cells": [
  {
   "cell_type": "code",
   "execution_count": 1,
   "id": "arctic-presentation",
   "metadata": {
    "_kg_hide-input": true,
    "_kg_hide-output": true,
    "execution": {
     "iopub.execute_input": "2021-05-17T16:09:19.027695Z",
     "iopub.status.busy": "2021-05-17T16:09:19.027030Z",
     "iopub.status.idle": "2021-05-17T16:09:19.031130Z",
     "shell.execute_reply": "2021-05-17T16:09:19.031557Z"
    },
    "papermill": {
     "duration": 0.050882,
     "end_time": "2021-05-17T16:09:19.031842",
     "exception": false,
     "start_time": "2021-05-17T16:09:18.980960",
     "status": "completed"
    },
    "tags": []
   },
   "outputs": [
    {
     "data": {
      "text/html": [
       "<link rel=\"stylesheet\" href=\"https://stackpath.bootstrapcdn.com/bootstrap/4.3.1/css/bootstrap.min.css\" integrity=\"sha384-ggOyR0iXCbMQv3Xipma34MD+dH/1fQ784/j6cY/iJTQUOhcWr7x9JvoRxT2MZw1T\" crossorigin=\"anonymous\"/>\n",
       "<style>\n",
       "</style>\n"
      ],
      "text/plain": [
       "<IPython.core.display.HTML object>"
      ]
     },
     "metadata": {},
     "output_type": "display_data"
    }
   ],
   "source": [
    "%%HTML\n",
    "<link rel=\"stylesheet\" href=\"https://stackpath.bootstrapcdn.com/bootstrap/4.3.1/css/bootstrap.min.css\" integrity=\"sha384-ggOyR0iXCbMQv3Xipma34MD+dH/1fQ784/j6cY/iJTQUOhcWr7x9JvoRxT2MZw1T\" crossorigin=\"anonymous\"/>\n",
    "<style>\n",
    "</style>"
   ]
  },
  {
   "cell_type": "markdown",
   "id": "stone-neighborhood",
   "metadata": {
    "papermill": {
     "duration": 0.033391,
     "end_time": "2021-05-17T16:09:19.099848",
     "exception": false,
     "start_time": "2021-05-17T16:09:19.066457",
     "status": "completed"
    },
    "tags": []
   },
   "source": [
    "<div class=\"text-center card-title\">\n",
    "    <img class=\"img-fluid img-thumbnail\" src=\"https://deadhorsemedia.co.uk/wp-content/uploads/2019/11/critics.png\" width=\"800\" height=\"600\">\n",
    "    <h1 class=\"text-primary\">The Impact Of Movie Critics On Movie Viewer Choices</h1>\n",
    "    <h3>Are Rotten Tomato Movie Critics a good tool for predicting movie audience sentiment? or can we come up with something better?</h3>\n",
    "    <h3>Author: Brian Ojoh Mile <br/> ID: 114064745 <br/> Introduction to Data Science Final Project <br/> CMSC320, Spring 2021 <br/> Computer Science - University of Maryland</h3> \n",
    "    <hr/>\n",
    "</div>"
   ]
  },
  {
   "cell_type": "markdown",
   "id": "numeric-linux",
   "metadata": {
    "papermill": {
     "duration": 0.033032,
     "end_time": "2021-05-17T16:09:19.166022",
     "exception": false,
     "start_time": "2021-05-17T16:09:19.132990",
     "status": "completed"
    },
    "tags": []
   },
   "source": [
    "<ul class=\"list-group\"> <h1>Table Of Contents</h1>\n",
    "    <li class=\"list-group-item border-0 m-1 p-0\"><font size=4>1. <a href=\"#1\">Introduction</a></font>\n",
    "    </li>\n",
    "     <li class=\"list-group-item border-0 m-1 p-0\"><font size=4>2. <a href=\"#\">Obtaining The Data</a></font>\n",
    "    </li>\n",
    "    <li class=\"list-group-item border-0 m-1 p-0\"><font size=4>3. <a href=\"#\">Data Cleaning</a></font>\n",
    "    </li>\n",
    "     <li class=\"list-group-item border-0 m-1 p-0\"><font size=4>4.  <a href=\"#\">Data Exploration</a></font>\n",
    "    </li>\n",
    "    <li class=\"list-group-item border-0 m-1 p-0\"><font size=4>5.  <a href=\"#\">Hypothesis</a></font>\n",
    "    </li>\n",
    "     <li class=\"list-group-item border-0 m-1 p-0\"><font size=4>6.  <a href=\"#\">Data Modeling</a></font>\n",
    "    </li>\n",
    "     <li class=\"list-group-item border-0 m-1 p-0\"><font size=4>7. <a href=\"#\">Data Interpretation</a></font>\n",
    "    </li>\n",
    "     <li class=\"list-group-item border-0 m-1 p-0\"><font size=4>8. <a href=\"#\">References</a></font>\n",
    "    </li>\n",
    "</ul>"
   ]
  },
  {
   "cell_type": "markdown",
   "id": "emotional-forward",
   "metadata": {
    "papermill": {
     "duration": 0.034595,
     "end_time": "2021-05-17T16:09:19.233862",
     "exception": false,
     "start_time": "2021-05-17T16:09:19.199267",
     "status": "completed"
    },
    "tags": []
   },
   "source": [
    "---\n",
    "<div class=\"text-center text-primary card-title\">\n",
    "    <h1 id=\"1\">1. Introduction</h1>\n",
    "</div>\n",
    "\n",
    "---"
   ]
  },
  {
   "cell_type": "markdown",
   "id": "emotional-dictionary",
   "metadata": {
    "papermill": {
     "duration": 0.033299,
     "end_time": "2021-05-17T16:09:19.300713",
     "exception": false,
     "start_time": "2021-05-17T16:09:19.267414",
     "status": "completed"
    },
    "tags": []
   },
   "source": [
    "<h2 class=\"card-title\"> Background</h2>\n",
    "<font  size=4> \n",
    "    With increasing pressure on movie studios to increase production values to satisfy audiences, a rapid transition from traditional theatre viewing to online subscription models, and the increasing segregation of movies to unique service providers like Hulu, Netflix and Disney, the costs associated with watching movies are becoming increasingly expensive, and it is now more important than ever for audiences to be properly informed before purchasing movie tickets or switching to new service providers.</font>"
   ]
  },
  {
   "cell_type": "markdown",
   "id": "portuguese-parks",
   "metadata": {
    "papermill": {
     "duration": 0.032823,
     "end_time": "2021-05-17T16:09:19.367562",
     "exception": false,
     "start_time": "2021-05-17T16:09:19.334739",
     "status": "completed"
    },
    "tags": []
   },
   "source": [
    "<h2 class=\"card-title\">what are Movie Critics?</h2>\n",
    "<font size=4> Many solutions to the audience problem have emerged (i.e movie recommendation engines), but no solution is as prevalent as that of movie critics.</font> <br/>\n",
    "<font size=4>According to study.com, a movie critic is someone who is paid to see films and give their professional review of them to help audiences determine whether or not they should see the movies themselves. They usually work for newspapers, magazines, television, or radio. A goal of this project is to determine the effectiveness of movie reviews.</font>"
   ]
  },
  {
   "cell_type": "markdown",
   "id": "systematic-lithuania",
   "metadata": {
    "papermill": {
     "duration": 0.032685,
     "end_time": "2021-05-17T16:09:19.433370",
     "exception": false,
     "start_time": "2021-05-17T16:09:19.400685",
     "status": "completed"
    },
    "tags": []
   },
   "source": [
    "<h2 class=\"card-title\">What is Rotten Tomatoes?</h2>\n",
    "   <font size=4>Rotten Tomatoes and the Tomatometer score are the world’s most trusted recommendation resources for quality entertainment. As the leading online aggregator of movie and TV show reviews from critics, we provide fans with a comprehensive guide to what’s Fresh – and what’s Rotten – in theaters and at home. And the Tomatometer is just the beginning. We also serve movie and TV fans with original editorial content on our site and through social channels, produce fun and informative video series, and hold live events for fans across the country, with our ‘Your Opinion Sucks’ live shows. If you’re an entertainment fan looking for a recommendation, or to share an opinion, you’ve come to the right place. -- Rotten Tomatoes.</font> <br/>\n",
    "\n"
   ]
  },
  {
   "cell_type": "markdown",
   "id": "relevant-virginia",
   "metadata": {
    "papermill": {
     "duration": 0.032534,
     "end_time": "2021-05-17T16:09:19.498927",
     "exception": false,
     "start_time": "2021-05-17T16:09:19.466393",
     "status": "completed"
    },
    "tags": []
   },
   "source": [
    "<h2 class=\"card-title\">Why Rotten Tomatoes and it's Critic Review System?</h2>\n",
    "<font size=4> Rotten tomatoes claims its critic ratings (Tomatomenter score) are the world's most trusted recommendation sources. But with recent accusations of deleting audience reviews, disallowing the audience from commenting on movies untill after their relase date, showing bias towards politially safe movies in the wake of Movies such as the Joker, Captain Marvel and Dave Sharpel's sticks ans stones, and the obvious bias towards critic scores in it's rating system; can the audience still trust Rotten Tomatoes to better predict  movie sentiment?</font> <br/>\n"
   ]
  },
  {
   "cell_type": "markdown",
   "id": "oriental-corruption",
   "metadata": {
    "papermill": {
     "duration": 0.032978,
     "end_time": "2021-05-17T16:09:19.565148",
     "exception": false,
     "start_time": "2021-05-17T16:09:19.532170",
     "status": "completed"
    },
    "tags": []
   },
   "source": [
    "<h2 class=\"card-title\">Purpose & Objective</h2>\n",
    "<font size=4> The purpose of this project is not to determine whether Rotten Tomatoe's critic system is good or bad; given  good/bad are not  objective measures, due to the multitude of varibales that constiture a movie viewer's preferences. Rather, the goal is  to answer the objective below.  <br/><br/>   </font> \n",
    "<font size=4>Note: Ofcourse audience ratings are better at predicting audience ratings, so why don't we just use the audience ratings? well, unlike the critic ratings, audience ratings are not avaiable untill after a movie's release, and it doesn't matter then to a viewer, becuase they likely already paid to watch the movie at release. But they could just wait untill after the release to make a judgement from the audience ratings you say. Well, SPOILERS man :(, most of us hate them, and would rather watch a movie at release to avoid them. <br/> <br/></font>\n",
    "<font size=4><b>Objective</b></font> <br/>\n",
    "<font size=4>1. Is there a trend and relationship between between audience and critic ratings over the years? And can that be used to predict audience sentiment towards  movies?.</font> <br />"
   ]
  },
  {
   "cell_type": "markdown",
   "id": "structured-restriction",
   "metadata": {
    "papermill": {
     "duration": 0.033881,
     "end_time": "2021-05-17T16:09:19.632998",
     "exception": false,
     "start_time": "2021-05-17T16:09:19.599117",
     "status": "completed"
    },
    "tags": []
   },
   "source": [
    "<h2 class=\"card-title\">Definition of Terms</h2>\n",
    "<font size=4>Only terms in columns used for analysis</font> <br/>\n",
    "<font size=4><b>1. Content Rating</b>: category based on the movie suitability for audience</font> <br/>\n",
    "<font size=4><b>2. original release date</b>: date in which the movie has been released</font> <br/>\n",
    "<font size=4><b>3. tomatometter ratings</b>: percentage of positive critic ratings </font> <br/>\n",
    "<font size=4><b>4. tomatometer status</b>: tomatometer value of \"Rotten\" (less than 60% positive reviews), \"Fresh\" (at least 60% of positive reviews), and \"Certified Fresh\" (at least 75%)</font> <br/>\n",
    "<font size=4><b>5. audience status</b>: audience value of \"Spilled\" (less than 60% of users gave a rating of at least 3.5) or \"Upright\" (at least 60% of users) </font> <br/>\n",
    "<font size=4><b>6. audience_rating</b>: percentage of positive user ratings </font> <br/>\n",
    "<font size=4><b>7. Tomatomete Count</b>: critic ratings counted for the calculation of the tomatomer status </font> <br/>\n",
    "<font size=4><b>8. Audience count</b>: user ratings counted for the calculation of the audience status</font> <br/>"
   ]
  },
  {
   "cell_type": "markdown",
   "id": "communist-frame",
   "metadata": {
    "papermill": {
     "duration": 0.034736,
     "end_time": "2021-05-17T16:09:19.703834",
     "exception": false,
     "start_time": "2021-05-17T16:09:19.669098",
     "status": "completed"
    },
    "tags": []
   },
   "source": [
    "---\n",
    "<div class=\"text-center text-primary card-title\">\n",
    "    <h1 id=\"introduction\">2. Obtaining Data</h1>\n",
    "</div>\n",
    "\n",
    "---"
   ]
  },
  {
   "cell_type": "markdown",
   "id": "designing-fluid",
   "metadata": {
    "papermill": {
     "duration": 0.032926,
     "end_time": "2021-05-17T16:09:19.770653",
     "exception": false,
     "start_time": "2021-05-17T16:09:19.737727",
     "status": "completed"
    },
    "tags": []
   },
   "source": [
    "<h2 class=\"card-title\"> Data Source</h2>\n",
    "<font size=4 >We would be using the Pandas Library to store and manage our dataset</font>"
   ]
  },
  {
   "cell_type": "code",
   "execution_count": 2,
   "id": "interested-survivor",
   "metadata": {
    "execution": {
     "iopub.execute_input": "2021-05-17T16:09:19.841108Z",
     "iopub.status.busy": "2021-05-17T16:09:19.840247Z",
     "iopub.status.idle": "2021-05-17T16:09:19.842969Z",
     "shell.execute_reply": "2021-05-17T16:09:19.842533Z"
    },
    "papermill": {
     "duration": 0.039605,
     "end_time": "2021-05-17T16:09:19.843091",
     "exception": false,
     "start_time": "2021-05-17T16:09:19.803486",
     "status": "completed"
    },
    "tags": []
   },
   "outputs": [],
   "source": [
    "import pandas as pd\n",
    "pd.set_option('display.max_columns', None)\n",
    "pd.options.mode.chained_assignment = None\n",
    "import numpy as np"
   ]
  },
  {
   "cell_type": "markdown",
   "id": "sticky-server",
   "metadata": {
    "papermill": {
     "duration": 0.032831,
     "end_time": "2021-05-17T16:09:19.908856",
     "exception": false,
     "start_time": "2021-05-17T16:09:19.876025",
     "status": "completed"
    },
    "tags": []
   },
   "source": [
    "<font size=4> Our dataset is taken from a publiclly avaialble csv file of currated data from the Rotten Tomatoes websites. The most recent update to the dataset was 6 months ago. Heres's a summary of the data collected:</font><br/>\n",
    "\n",
    "<font size=4> 1. Movies DataSet</font><br/>\n",
    "<font size=4>Source: <a href=\"https://www.kaggle.com/stefanoleone992/rotten-tomatoes-movies-and-critic-reviews-dataset\">Rotten Tomatoes Movie and Critics Reviews DataSet</a></font><br/>\n",
    "<font size=4>Summary: <blockquote>In the movies dataset each record represents a movie available on Rotten Tomatoes, with the URL used for the scraping, movie tile, description, genres, duration, director, actors, users' ratings, and critics' ratings.</blockquote></font>"
   ]
  },
  {
   "cell_type": "markdown",
   "id": "leading-courage",
   "metadata": {
    "papermill": {
     "duration": 0.033563,
     "end_time": "2021-05-17T16:09:19.976111",
     "exception": false,
     "start_time": "2021-05-17T16:09:19.942548",
     "status": "completed"
    },
    "tags": []
   },
   "source": [
    "<h2 class=\"card-title\"> Data Preview</h2>\n",
    "<font size=4>  Here is a preview of the Movie dataset </font><br/>"
   ]
  },
  {
   "cell_type": "code",
   "execution_count": 3,
   "id": "intimate-kernel",
   "metadata": {
    "execution": {
     "iopub.execute_input": "2021-05-17T16:09:20.048759Z",
     "iopub.status.busy": "2021-05-17T16:09:20.048131Z",
     "iopub.status.idle": "2021-05-17T16:09:20.717730Z",
     "shell.execute_reply": "2021-05-17T16:09:20.716758Z"
    },
    "papermill": {
     "duration": 0.707624,
     "end_time": "2021-05-17T16:09:20.717952",
     "exception": false,
     "start_time": "2021-05-17T16:09:20.010328",
     "status": "completed"
    },
    "tags": []
   },
   "outputs": [
    {
     "data": {
      "text/html": [
       "<div>\n",
       "<style scoped>\n",
       "    .dataframe tbody tr th:only-of-type {\n",
       "        vertical-align: middle;\n",
       "    }\n",
       "\n",
       "    .dataframe tbody tr th {\n",
       "        vertical-align: top;\n",
       "    }\n",
       "\n",
       "    .dataframe thead th {\n",
       "        text-align: right;\n",
       "    }\n",
       "</style>\n",
       "<table border=\"1\" class=\"dataframe\">\n",
       "  <thead>\n",
       "    <tr style=\"text-align: right;\">\n",
       "      <th></th>\n",
       "      <th>rotten_tomatoes_link</th>\n",
       "      <th>movie_title</th>\n",
       "      <th>movie_info</th>\n",
       "      <th>critics_consensus</th>\n",
       "      <th>content_rating</th>\n",
       "      <th>genres</th>\n",
       "      <th>directors</th>\n",
       "      <th>authors</th>\n",
       "      <th>actors</th>\n",
       "      <th>original_release_date</th>\n",
       "      <th>streaming_release_date</th>\n",
       "      <th>runtime</th>\n",
       "      <th>production_company</th>\n",
       "      <th>tomatometer_status</th>\n",
       "      <th>tomatometer_rating</th>\n",
       "      <th>tomatometer_count</th>\n",
       "      <th>audience_status</th>\n",
       "      <th>audience_rating</th>\n",
       "      <th>audience_count</th>\n",
       "      <th>tomatometer_top_critics_count</th>\n",
       "      <th>tomatometer_fresh_critics_count</th>\n",
       "      <th>tomatometer_rotten_critics_count</th>\n",
       "    </tr>\n",
       "  </thead>\n",
       "  <tbody>\n",
       "    <tr>\n",
       "      <th>0</th>\n",
       "      <td>m/0814255</td>\n",
       "      <td>Percy Jackson &amp; the Olympians: The Lightning T...</td>\n",
       "      <td>Always trouble-prone, the life of teenager Per...</td>\n",
       "      <td>Though it may seem like just another Harry Pot...</td>\n",
       "      <td>PG</td>\n",
       "      <td>Action &amp; Adventure, Comedy, Drama, Science Fic...</td>\n",
       "      <td>Chris Columbus</td>\n",
       "      <td>Craig Titley, Chris Columbus, Rick Riordan</td>\n",
       "      <td>Logan Lerman, Brandon T. Jackson, Alexandra Da...</td>\n",
       "      <td>2010-02-12</td>\n",
       "      <td>2015-11-25</td>\n",
       "      <td>119.0</td>\n",
       "      <td>20th Century Fox</td>\n",
       "      <td>Rotten</td>\n",
       "      <td>49.0</td>\n",
       "      <td>149.0</td>\n",
       "      <td>Spilled</td>\n",
       "      <td>53.0</td>\n",
       "      <td>254421.0</td>\n",
       "      <td>43</td>\n",
       "      <td>73</td>\n",
       "      <td>76</td>\n",
       "    </tr>\n",
       "    <tr>\n",
       "      <th>1</th>\n",
       "      <td>m/0878835</td>\n",
       "      <td>Please Give</td>\n",
       "      <td>Kate (Catherine Keener) and her husband Alex (...</td>\n",
       "      <td>Nicole Holofcener's newest might seem slight i...</td>\n",
       "      <td>R</td>\n",
       "      <td>Comedy</td>\n",
       "      <td>Nicole Holofcener</td>\n",
       "      <td>Nicole Holofcener</td>\n",
       "      <td>Catherine Keener, Amanda Peet, Oliver Platt, R...</td>\n",
       "      <td>2010-04-30</td>\n",
       "      <td>2012-09-04</td>\n",
       "      <td>90.0</td>\n",
       "      <td>Sony Pictures Classics</td>\n",
       "      <td>Certified-Fresh</td>\n",
       "      <td>87.0</td>\n",
       "      <td>142.0</td>\n",
       "      <td>Upright</td>\n",
       "      <td>64.0</td>\n",
       "      <td>11574.0</td>\n",
       "      <td>44</td>\n",
       "      <td>123</td>\n",
       "      <td>19</td>\n",
       "    </tr>\n",
       "    <tr>\n",
       "      <th>2</th>\n",
       "      <td>m/10</td>\n",
       "      <td>10</td>\n",
       "      <td>A successful, middle-aged Hollywood songwriter...</td>\n",
       "      <td>Blake Edwards' bawdy comedy may not score a pe...</td>\n",
       "      <td>R</td>\n",
       "      <td>Comedy, Romance</td>\n",
       "      <td>Blake Edwards</td>\n",
       "      <td>Blake Edwards</td>\n",
       "      <td>Dudley Moore, Bo Derek, Julie Andrews, Robert ...</td>\n",
       "      <td>1979-10-05</td>\n",
       "      <td>2014-07-24</td>\n",
       "      <td>122.0</td>\n",
       "      <td>Waner Bros.</td>\n",
       "      <td>Fresh</td>\n",
       "      <td>67.0</td>\n",
       "      <td>24.0</td>\n",
       "      <td>Spilled</td>\n",
       "      <td>53.0</td>\n",
       "      <td>14684.0</td>\n",
       "      <td>2</td>\n",
       "      <td>16</td>\n",
       "      <td>8</td>\n",
       "    </tr>\n",
       "    <tr>\n",
       "      <th>3</th>\n",
       "      <td>m/1000013-12_angry_men</td>\n",
       "      <td>12 Angry Men (Twelve Angry Men)</td>\n",
       "      <td>Following the closing arguments in a murder tr...</td>\n",
       "      <td>Sidney Lumet's feature debut is a superbly wri...</td>\n",
       "      <td>NR</td>\n",
       "      <td>Classics, Drama</td>\n",
       "      <td>Sidney Lumet</td>\n",
       "      <td>Reginald Rose</td>\n",
       "      <td>Martin Balsam, John Fiedler, Lee J. Cobb, E.G....</td>\n",
       "      <td>1957-04-13</td>\n",
       "      <td>2017-01-13</td>\n",
       "      <td>95.0</td>\n",
       "      <td>Criterion Collection</td>\n",
       "      <td>Certified-Fresh</td>\n",
       "      <td>100.0</td>\n",
       "      <td>54.0</td>\n",
       "      <td>Upright</td>\n",
       "      <td>97.0</td>\n",
       "      <td>105386.0</td>\n",
       "      <td>6</td>\n",
       "      <td>54</td>\n",
       "      <td>0</td>\n",
       "    </tr>\n",
       "    <tr>\n",
       "      <th>4</th>\n",
       "      <td>m/1000079-20000_leagues_under_the_sea</td>\n",
       "      <td>20,000 Leagues Under The Sea</td>\n",
       "      <td>In 1866, Professor Pierre M. Aronnax (Paul Luk...</td>\n",
       "      <td>One of Disney's finest live-action adventures,...</td>\n",
       "      <td>G</td>\n",
       "      <td>Action &amp; Adventure, Drama, Kids &amp; Family</td>\n",
       "      <td>Richard Fleischer</td>\n",
       "      <td>Earl Felton</td>\n",
       "      <td>James Mason, Kirk Douglas, Paul Lukas, Peter L...</td>\n",
       "      <td>1954-01-01</td>\n",
       "      <td>2016-06-10</td>\n",
       "      <td>127.0</td>\n",
       "      <td>Disney</td>\n",
       "      <td>Fresh</td>\n",
       "      <td>89.0</td>\n",
       "      <td>27.0</td>\n",
       "      <td>Upright</td>\n",
       "      <td>74.0</td>\n",
       "      <td>68918.0</td>\n",
       "      <td>5</td>\n",
       "      <td>24</td>\n",
       "      <td>3</td>\n",
       "    </tr>\n",
       "  </tbody>\n",
       "</table>\n",
       "</div>"
      ],
      "text/plain": [
       "                    rotten_tomatoes_link  \\\n",
       "0                              m/0814255   \n",
       "1                              m/0878835   \n",
       "2                                   m/10   \n",
       "3                 m/1000013-12_angry_men   \n",
       "4  m/1000079-20000_leagues_under_the_sea   \n",
       "\n",
       "                                         movie_title  \\\n",
       "0  Percy Jackson & the Olympians: The Lightning T...   \n",
       "1                                        Please Give   \n",
       "2                                                 10   \n",
       "3                    12 Angry Men (Twelve Angry Men)   \n",
       "4                       20,000 Leagues Under The Sea   \n",
       "\n",
       "                                          movie_info  \\\n",
       "0  Always trouble-prone, the life of teenager Per...   \n",
       "1  Kate (Catherine Keener) and her husband Alex (...   \n",
       "2  A successful, middle-aged Hollywood songwriter...   \n",
       "3  Following the closing arguments in a murder tr...   \n",
       "4  In 1866, Professor Pierre M. Aronnax (Paul Luk...   \n",
       "\n",
       "                                   critics_consensus content_rating  \\\n",
       "0  Though it may seem like just another Harry Pot...             PG   \n",
       "1  Nicole Holofcener's newest might seem slight i...              R   \n",
       "2  Blake Edwards' bawdy comedy may not score a pe...              R   \n",
       "3  Sidney Lumet's feature debut is a superbly wri...             NR   \n",
       "4  One of Disney's finest live-action adventures,...              G   \n",
       "\n",
       "                                              genres          directors  \\\n",
       "0  Action & Adventure, Comedy, Drama, Science Fic...     Chris Columbus   \n",
       "1                                             Comedy  Nicole Holofcener   \n",
       "2                                    Comedy, Romance      Blake Edwards   \n",
       "3                                    Classics, Drama       Sidney Lumet   \n",
       "4           Action & Adventure, Drama, Kids & Family  Richard Fleischer   \n",
       "\n",
       "                                      authors  \\\n",
       "0  Craig Titley, Chris Columbus, Rick Riordan   \n",
       "1                           Nicole Holofcener   \n",
       "2                               Blake Edwards   \n",
       "3                               Reginald Rose   \n",
       "4                                 Earl Felton   \n",
       "\n",
       "                                              actors original_release_date  \\\n",
       "0  Logan Lerman, Brandon T. Jackson, Alexandra Da...            2010-02-12   \n",
       "1  Catherine Keener, Amanda Peet, Oliver Platt, R...            2010-04-30   \n",
       "2  Dudley Moore, Bo Derek, Julie Andrews, Robert ...            1979-10-05   \n",
       "3  Martin Balsam, John Fiedler, Lee J. Cobb, E.G....            1957-04-13   \n",
       "4  James Mason, Kirk Douglas, Paul Lukas, Peter L...            1954-01-01   \n",
       "\n",
       "  streaming_release_date  runtime      production_company tomatometer_status  \\\n",
       "0             2015-11-25    119.0        20th Century Fox             Rotten   \n",
       "1             2012-09-04     90.0  Sony Pictures Classics    Certified-Fresh   \n",
       "2             2014-07-24    122.0             Waner Bros.              Fresh   \n",
       "3             2017-01-13     95.0    Criterion Collection    Certified-Fresh   \n",
       "4             2016-06-10    127.0                  Disney              Fresh   \n",
       "\n",
       "   tomatometer_rating  tomatometer_count audience_status  audience_rating  \\\n",
       "0                49.0              149.0         Spilled             53.0   \n",
       "1                87.0              142.0         Upright             64.0   \n",
       "2                67.0               24.0         Spilled             53.0   \n",
       "3               100.0               54.0         Upright             97.0   \n",
       "4                89.0               27.0         Upright             74.0   \n",
       "\n",
       "   audience_count  tomatometer_top_critics_count  \\\n",
       "0        254421.0                             43   \n",
       "1         11574.0                             44   \n",
       "2         14684.0                              2   \n",
       "3        105386.0                              6   \n",
       "4         68918.0                              5   \n",
       "\n",
       "   tomatometer_fresh_critics_count  tomatometer_rotten_critics_count  \n",
       "0                               73                                76  \n",
       "1                              123                                19  \n",
       "2                               16                                 8  \n",
       "3                               54                                 0  \n",
       "4                               24                                 3  "
      ]
     },
     "execution_count": 3,
     "metadata": {},
     "output_type": "execute_result"
    }
   ],
   "source": [
    "dataSet = pd.read_csv(\"../input/rotten-tomatoes-movies-and-critic-reviews-dataset/rotten_tomatoes_movies.csv\")\n",
    "dataSet.head()"
   ]
  },
  {
   "cell_type": "markdown",
   "id": "visible-intensity",
   "metadata": {
    "papermill": {
     "duration": 0.03697,
     "end_time": "2021-05-17T16:09:20.804509",
     "exception": false,
     "start_time": "2021-05-17T16:09:20.767539",
     "status": "completed"
    },
    "tags": []
   },
   "source": [
    "<font size=4>  Here is a preview of the movie dataset</font><br/>"
   ]
  },
  {
   "cell_type": "code",
   "execution_count": 4,
   "id": "anticipated-station",
   "metadata": {
    "execution": {
     "iopub.execute_input": "2021-05-17T16:09:20.885189Z",
     "iopub.status.busy": "2021-05-17T16:09:20.884158Z",
     "iopub.status.idle": "2021-05-17T16:09:20.923690Z",
     "shell.execute_reply": "2021-05-17T16:09:20.923174Z"
    },
    "papermill": {
     "duration": 0.083839,
     "end_time": "2021-05-17T16:09:20.923820",
     "exception": false,
     "start_time": "2021-05-17T16:09:20.839981",
     "status": "completed"
    },
    "tags": []
   },
   "outputs": [
    {
     "data": {
      "text/html": [
       "<div>\n",
       "<style scoped>\n",
       "    .dataframe tbody tr th:only-of-type {\n",
       "        vertical-align: middle;\n",
       "    }\n",
       "\n",
       "    .dataframe tbody tr th {\n",
       "        vertical-align: top;\n",
       "    }\n",
       "\n",
       "    .dataframe thead th {\n",
       "        text-align: right;\n",
       "    }\n",
       "</style>\n",
       "<table border=\"1\" class=\"dataframe\">\n",
       "  <thead>\n",
       "    <tr style=\"text-align: right;\">\n",
       "      <th></th>\n",
       "      <th>runtime</th>\n",
       "      <th>tomatometer_rating</th>\n",
       "      <th>tomatometer_count</th>\n",
       "      <th>audience_rating</th>\n",
       "      <th>audience_count</th>\n",
       "      <th>tomatometer_top_critics_count</th>\n",
       "      <th>tomatometer_fresh_critics_count</th>\n",
       "      <th>tomatometer_rotten_critics_count</th>\n",
       "    </tr>\n",
       "  </thead>\n",
       "  <tbody>\n",
       "    <tr>\n",
       "      <th>count</th>\n",
       "      <td>17398.000000</td>\n",
       "      <td>17668.000000</td>\n",
       "      <td>17668.000000</td>\n",
       "      <td>17416.000000</td>\n",
       "      <td>1.741500e+04</td>\n",
       "      <td>17712.000000</td>\n",
       "      <td>17712.000000</td>\n",
       "      <td>17712.000000</td>\n",
       "    </tr>\n",
       "    <tr>\n",
       "      <th>mean</th>\n",
       "      <td>102.214048</td>\n",
       "      <td>60.884763</td>\n",
       "      <td>57.139801</td>\n",
       "      <td>60.554260</td>\n",
       "      <td>1.439401e+05</td>\n",
       "      <td>14.586326</td>\n",
       "      <td>36.374831</td>\n",
       "      <td>20.703139</td>\n",
       "    </tr>\n",
       "    <tr>\n",
       "      <th>std</th>\n",
       "      <td>18.702511</td>\n",
       "      <td>28.443348</td>\n",
       "      <td>68.370047</td>\n",
       "      <td>20.543369</td>\n",
       "      <td>1.763577e+06</td>\n",
       "      <td>15.146349</td>\n",
       "      <td>52.601038</td>\n",
       "      <td>30.248435</td>\n",
       "    </tr>\n",
       "    <tr>\n",
       "      <th>min</th>\n",
       "      <td>5.000000</td>\n",
       "      <td>0.000000</td>\n",
       "      <td>5.000000</td>\n",
       "      <td>0.000000</td>\n",
       "      <td>5.000000e+00</td>\n",
       "      <td>0.000000</td>\n",
       "      <td>0.000000</td>\n",
       "      <td>0.000000</td>\n",
       "    </tr>\n",
       "    <tr>\n",
       "      <th>25%</th>\n",
       "      <td>90.000000</td>\n",
       "      <td>38.000000</td>\n",
       "      <td>12.000000</td>\n",
       "      <td>45.000000</td>\n",
       "      <td>7.075000e+02</td>\n",
       "      <td>3.000000</td>\n",
       "      <td>6.000000</td>\n",
       "      <td>3.000000</td>\n",
       "    </tr>\n",
       "    <tr>\n",
       "      <th>50%</th>\n",
       "      <td>99.000000</td>\n",
       "      <td>67.000000</td>\n",
       "      <td>28.000000</td>\n",
       "      <td>63.000000</td>\n",
       "      <td>4.277000e+03</td>\n",
       "      <td>8.000000</td>\n",
       "      <td>16.000000</td>\n",
       "      <td>8.000000</td>\n",
       "    </tr>\n",
       "    <tr>\n",
       "      <th>75%</th>\n",
       "      <td>111.000000</td>\n",
       "      <td>86.000000</td>\n",
       "      <td>75.000000</td>\n",
       "      <td>78.000000</td>\n",
       "      <td>2.498800e+04</td>\n",
       "      <td>23.000000</td>\n",
       "      <td>44.000000</td>\n",
       "      <td>24.000000</td>\n",
       "    </tr>\n",
       "    <tr>\n",
       "      <th>max</th>\n",
       "      <td>266.000000</td>\n",
       "      <td>100.000000</td>\n",
       "      <td>574.000000</td>\n",
       "      <td>100.000000</td>\n",
       "      <td>3.579764e+07</td>\n",
       "      <td>69.000000</td>\n",
       "      <td>497.000000</td>\n",
       "      <td>303.000000</td>\n",
       "    </tr>\n",
       "  </tbody>\n",
       "</table>\n",
       "</div>"
      ],
      "text/plain": [
       "            runtime  tomatometer_rating  tomatometer_count  audience_rating  \\\n",
       "count  17398.000000        17668.000000       17668.000000     17416.000000   \n",
       "mean     102.214048           60.884763          57.139801        60.554260   \n",
       "std       18.702511           28.443348          68.370047        20.543369   \n",
       "min        5.000000            0.000000           5.000000         0.000000   \n",
       "25%       90.000000           38.000000          12.000000        45.000000   \n",
       "50%       99.000000           67.000000          28.000000        63.000000   \n",
       "75%      111.000000           86.000000          75.000000        78.000000   \n",
       "max      266.000000          100.000000         574.000000       100.000000   \n",
       "\n",
       "       audience_count  tomatometer_top_critics_count  \\\n",
       "count    1.741500e+04                   17712.000000   \n",
       "mean     1.439401e+05                      14.586326   \n",
       "std      1.763577e+06                      15.146349   \n",
       "min      5.000000e+00                       0.000000   \n",
       "25%      7.075000e+02                       3.000000   \n",
       "50%      4.277000e+03                       8.000000   \n",
       "75%      2.498800e+04                      23.000000   \n",
       "max      3.579764e+07                      69.000000   \n",
       "\n",
       "       tomatometer_fresh_critics_count  tomatometer_rotten_critics_count  \n",
       "count                     17712.000000                      17712.000000  \n",
       "mean                         36.374831                         20.703139  \n",
       "std                          52.601038                         30.248435  \n",
       "min                           0.000000                          0.000000  \n",
       "25%                           6.000000                          3.000000  \n",
       "50%                          16.000000                          8.000000  \n",
       "75%                          44.000000                         24.000000  \n",
       "max                         497.000000                        303.000000  "
      ]
     },
     "execution_count": 4,
     "metadata": {},
     "output_type": "execute_result"
    }
   ],
   "source": [
    "dataSet.describe()"
   ]
  },
  {
   "cell_type": "markdown",
   "id": "modular-flower",
   "metadata": {
    "papermill": {
     "duration": 0.035101,
     "end_time": "2021-05-17T16:09:20.993768",
     "exception": false,
     "start_time": "2021-05-17T16:09:20.958667",
     "status": "completed"
    },
    "tags": []
   },
   "source": [
    "<font size=4> Already we see some interesting information in the table statistic summary.</font><br/>\n",
    "<font size=4> Also note that we are missing summary statistics for non-numeric data which could be insightful, we address that later on in the data categorization section</font><br/>"
   ]
  },
  {
   "cell_type": "markdown",
   "id": "contemporary-jonathan",
   "metadata": {
    "papermill": {
     "duration": 0.033858,
     "end_time": "2021-05-17T16:09:21.064351",
     "exception": false,
     "start_time": "2021-05-17T16:09:21.030493",
     "status": "completed"
    },
    "tags": []
   },
   "source": [
    "\n",
    "<div class=\"text-center text-primary card-title\">\n",
    "    <hr/>\n",
    "    <h1 id=\"introduction\">3. Data Cleaning</h1>\n",
    "    <hr/>\n",
    "</div>\n"
   ]
  },
  {
   "cell_type": "markdown",
   "id": "critical-earth",
   "metadata": {
    "papermill": {
     "duration": 0.034426,
     "end_time": "2021-05-17T16:09:21.133110",
     "exception": false,
     "start_time": "2021-05-17T16:09:21.098684",
     "status": "completed"
    },
    "tags": []
   },
   "source": [
    "<h2 class=\"card-title\">Handling Missing Values</h2>\n",
    "<font size=4> In this Section, we handle any irregular entries in the dataset. These are entries that are either not formatted correctly, could be formatted better, or are missing entirely from the datset. It is important that we account for missing data, as their absence could provide great insight to our analysis. But, we must also recognize that a very low percentage of missing data would have negligeable effect on our analysis, and can be ingored.</font><br/>\n",
    "<font size=4> First, we figure out the percentage of missing entries for each column of the datasets</font>"
   ]
  },
  {
   "cell_type": "code",
   "execution_count": 5,
   "id": "adjusted-james",
   "metadata": {
    "execution": {
     "iopub.execute_input": "2021-05-17T16:09:21.219777Z",
     "iopub.status.busy": "2021-05-17T16:09:21.219042Z",
     "iopub.status.idle": "2021-05-17T16:09:21.245533Z",
     "shell.execute_reply": "2021-05-17T16:09:21.245906Z"
    },
    "papermill": {
     "duration": 0.078682,
     "end_time": "2021-05-17T16:09:21.246089",
     "exception": false,
     "start_time": "2021-05-17T16:09:21.167407",
     "status": "completed"
    },
    "tags": []
   },
   "outputs": [
    {
     "name": "stdout",
     "output_type": "stream",
     "text": [
      "DataSet: Total Entries = 389664 ,Total Missing Entries = 14542 ,percentage of missing entries = 3.73 %\n"
     ]
    },
    {
     "data": {
      "text/html": [
       "<div>\n",
       "<style scoped>\n",
       "    .dataframe tbody tr th:only-of-type {\n",
       "        vertical-align: middle;\n",
       "    }\n",
       "\n",
       "    .dataframe tbody tr th {\n",
       "        vertical-align: top;\n",
       "    }\n",
       "\n",
       "    .dataframe thead th {\n",
       "        text-align: right;\n",
       "    }\n",
       "</style>\n",
       "<table border=\"1\" class=\"dataframe\">\n",
       "  <thead>\n",
       "    <tr style=\"text-align: right;\">\n",
       "      <th></th>\n",
       "      <th>rotten_tomatoes_link</th>\n",
       "      <th>movie_title</th>\n",
       "      <th>movie_info</th>\n",
       "      <th>critics_consensus</th>\n",
       "      <th>content_rating</th>\n",
       "      <th>genres</th>\n",
       "      <th>directors</th>\n",
       "      <th>authors</th>\n",
       "      <th>actors</th>\n",
       "      <th>original_release_date</th>\n",
       "      <th>streaming_release_date</th>\n",
       "      <th>runtime</th>\n",
       "      <th>production_company</th>\n",
       "      <th>tomatometer_status</th>\n",
       "      <th>tomatometer_rating</th>\n",
       "      <th>tomatometer_count</th>\n",
       "      <th>audience_status</th>\n",
       "      <th>audience_rating</th>\n",
       "      <th>audience_count</th>\n",
       "      <th>tomatometer_top_critics_count</th>\n",
       "      <th>tomatometer_fresh_critics_count</th>\n",
       "      <th>tomatometer_rotten_critics_count</th>\n",
       "    </tr>\n",
       "  </thead>\n",
       "  <tbody>\n",
       "    <tr>\n",
       "      <th>0</th>\n",
       "      <td>m/0814255</td>\n",
       "      <td>Percy Jackson &amp; the Olympians: The Lightning T...</td>\n",
       "      <td>Always trouble-prone, the life of teenager Per...</td>\n",
       "      <td>Though it may seem like just another Harry Pot...</td>\n",
       "      <td>PG</td>\n",
       "      <td>Action &amp; Adventure, Comedy, Drama, Science Fic...</td>\n",
       "      <td>Chris Columbus</td>\n",
       "      <td>Craig Titley, Chris Columbus, Rick Riordan</td>\n",
       "      <td>Logan Lerman, Brandon T. Jackson, Alexandra Da...</td>\n",
       "      <td>2010-02-12</td>\n",
       "      <td>2015-11-25</td>\n",
       "      <td>119.0</td>\n",
       "      <td>20th Century Fox</td>\n",
       "      <td>Rotten</td>\n",
       "      <td>49.0</td>\n",
       "      <td>149.0</td>\n",
       "      <td>Spilled</td>\n",
       "      <td>53.0</td>\n",
       "      <td>254421.0</td>\n",
       "      <td>43</td>\n",
       "      <td>73</td>\n",
       "      <td>76</td>\n",
       "    </tr>\n",
       "    <tr>\n",
       "      <th>1</th>\n",
       "      <td>m/0878835</td>\n",
       "      <td>Please Give</td>\n",
       "      <td>Kate (Catherine Keener) and her husband Alex (...</td>\n",
       "      <td>Nicole Holofcener's newest might seem slight i...</td>\n",
       "      <td>R</td>\n",
       "      <td>Comedy</td>\n",
       "      <td>Nicole Holofcener</td>\n",
       "      <td>Nicole Holofcener</td>\n",
       "      <td>Catherine Keener, Amanda Peet, Oliver Platt, R...</td>\n",
       "      <td>2010-04-30</td>\n",
       "      <td>2012-09-04</td>\n",
       "      <td>90.0</td>\n",
       "      <td>Sony Pictures Classics</td>\n",
       "      <td>Certified-Fresh</td>\n",
       "      <td>87.0</td>\n",
       "      <td>142.0</td>\n",
       "      <td>Upright</td>\n",
       "      <td>64.0</td>\n",
       "      <td>11574.0</td>\n",
       "      <td>44</td>\n",
       "      <td>123</td>\n",
       "      <td>19</td>\n",
       "    </tr>\n",
       "    <tr>\n",
       "      <th>2</th>\n",
       "      <td>m/10</td>\n",
       "      <td>10</td>\n",
       "      <td>A successful, middle-aged Hollywood songwriter...</td>\n",
       "      <td>Blake Edwards' bawdy comedy may not score a pe...</td>\n",
       "      <td>R</td>\n",
       "      <td>Comedy, Romance</td>\n",
       "      <td>Blake Edwards</td>\n",
       "      <td>Blake Edwards</td>\n",
       "      <td>Dudley Moore, Bo Derek, Julie Andrews, Robert ...</td>\n",
       "      <td>1979-10-05</td>\n",
       "      <td>2014-07-24</td>\n",
       "      <td>122.0</td>\n",
       "      <td>Waner Bros.</td>\n",
       "      <td>Fresh</td>\n",
       "      <td>67.0</td>\n",
       "      <td>24.0</td>\n",
       "      <td>Spilled</td>\n",
       "      <td>53.0</td>\n",
       "      <td>14684.0</td>\n",
       "      <td>2</td>\n",
       "      <td>16</td>\n",
       "      <td>8</td>\n",
       "    </tr>\n",
       "    <tr>\n",
       "      <th>3</th>\n",
       "      <td>m/1000013-12_angry_men</td>\n",
       "      <td>12 Angry Men (Twelve Angry Men)</td>\n",
       "      <td>Following the closing arguments in a murder tr...</td>\n",
       "      <td>Sidney Lumet's feature debut is a superbly wri...</td>\n",
       "      <td>NR</td>\n",
       "      <td>Classics, Drama</td>\n",
       "      <td>Sidney Lumet</td>\n",
       "      <td>Reginald Rose</td>\n",
       "      <td>Martin Balsam, John Fiedler, Lee J. Cobb, E.G....</td>\n",
       "      <td>1957-04-13</td>\n",
       "      <td>2017-01-13</td>\n",
       "      <td>95.0</td>\n",
       "      <td>Criterion Collection</td>\n",
       "      <td>Certified-Fresh</td>\n",
       "      <td>100.0</td>\n",
       "      <td>54.0</td>\n",
       "      <td>Upright</td>\n",
       "      <td>97.0</td>\n",
       "      <td>105386.0</td>\n",
       "      <td>6</td>\n",
       "      <td>54</td>\n",
       "      <td>0</td>\n",
       "    </tr>\n",
       "    <tr>\n",
       "      <th>4</th>\n",
       "      <td>m/1000079-20000_leagues_under_the_sea</td>\n",
       "      <td>20,000 Leagues Under The Sea</td>\n",
       "      <td>In 1866, Professor Pierre M. Aronnax (Paul Luk...</td>\n",
       "      <td>One of Disney's finest live-action adventures,...</td>\n",
       "      <td>G</td>\n",
       "      <td>Action &amp; Adventure, Drama, Kids &amp; Family</td>\n",
       "      <td>Richard Fleischer</td>\n",
       "      <td>Earl Felton</td>\n",
       "      <td>James Mason, Kirk Douglas, Paul Lukas, Peter L...</td>\n",
       "      <td>1954-01-01</td>\n",
       "      <td>2016-06-10</td>\n",
       "      <td>127.0</td>\n",
       "      <td>Disney</td>\n",
       "      <td>Fresh</td>\n",
       "      <td>89.0</td>\n",
       "      <td>27.0</td>\n",
       "      <td>Upright</td>\n",
       "      <td>74.0</td>\n",
       "      <td>68918.0</td>\n",
       "      <td>5</td>\n",
       "      <td>24</td>\n",
       "      <td>3</td>\n",
       "    </tr>\n",
       "  </tbody>\n",
       "</table>\n",
       "</div>"
      ],
      "text/plain": [
       "                    rotten_tomatoes_link  \\\n",
       "0                              m/0814255   \n",
       "1                              m/0878835   \n",
       "2                                   m/10   \n",
       "3                 m/1000013-12_angry_men   \n",
       "4  m/1000079-20000_leagues_under_the_sea   \n",
       "\n",
       "                                         movie_title  \\\n",
       "0  Percy Jackson & the Olympians: The Lightning T...   \n",
       "1                                        Please Give   \n",
       "2                                                 10   \n",
       "3                    12 Angry Men (Twelve Angry Men)   \n",
       "4                       20,000 Leagues Under The Sea   \n",
       "\n",
       "                                          movie_info  \\\n",
       "0  Always trouble-prone, the life of teenager Per...   \n",
       "1  Kate (Catherine Keener) and her husband Alex (...   \n",
       "2  A successful, middle-aged Hollywood songwriter...   \n",
       "3  Following the closing arguments in a murder tr...   \n",
       "4  In 1866, Professor Pierre M. Aronnax (Paul Luk...   \n",
       "\n",
       "                                   critics_consensus content_rating  \\\n",
       "0  Though it may seem like just another Harry Pot...             PG   \n",
       "1  Nicole Holofcener's newest might seem slight i...              R   \n",
       "2  Blake Edwards' bawdy comedy may not score a pe...              R   \n",
       "3  Sidney Lumet's feature debut is a superbly wri...             NR   \n",
       "4  One of Disney's finest live-action adventures,...              G   \n",
       "\n",
       "                                              genres          directors  \\\n",
       "0  Action & Adventure, Comedy, Drama, Science Fic...     Chris Columbus   \n",
       "1                                             Comedy  Nicole Holofcener   \n",
       "2                                    Comedy, Romance      Blake Edwards   \n",
       "3                                    Classics, Drama       Sidney Lumet   \n",
       "4           Action & Adventure, Drama, Kids & Family  Richard Fleischer   \n",
       "\n",
       "                                      authors  \\\n",
       "0  Craig Titley, Chris Columbus, Rick Riordan   \n",
       "1                           Nicole Holofcener   \n",
       "2                               Blake Edwards   \n",
       "3                               Reginald Rose   \n",
       "4                                 Earl Felton   \n",
       "\n",
       "                                              actors original_release_date  \\\n",
       "0  Logan Lerman, Brandon T. Jackson, Alexandra Da...            2010-02-12   \n",
       "1  Catherine Keener, Amanda Peet, Oliver Platt, R...            2010-04-30   \n",
       "2  Dudley Moore, Bo Derek, Julie Andrews, Robert ...            1979-10-05   \n",
       "3  Martin Balsam, John Fiedler, Lee J. Cobb, E.G....            1957-04-13   \n",
       "4  James Mason, Kirk Douglas, Paul Lukas, Peter L...            1954-01-01   \n",
       "\n",
       "  streaming_release_date  runtime      production_company tomatometer_status  \\\n",
       "0             2015-11-25    119.0        20th Century Fox             Rotten   \n",
       "1             2012-09-04     90.0  Sony Pictures Classics    Certified-Fresh   \n",
       "2             2014-07-24    122.0             Waner Bros.              Fresh   \n",
       "3             2017-01-13     95.0    Criterion Collection    Certified-Fresh   \n",
       "4             2016-06-10    127.0                  Disney              Fresh   \n",
       "\n",
       "   tomatometer_rating  tomatometer_count audience_status  audience_rating  \\\n",
       "0                49.0              149.0         Spilled             53.0   \n",
       "1                87.0              142.0         Upright             64.0   \n",
       "2                67.0               24.0         Spilled             53.0   \n",
       "3               100.0               54.0         Upright             97.0   \n",
       "4                89.0               27.0         Upright             74.0   \n",
       "\n",
       "   audience_count  tomatometer_top_critics_count  \\\n",
       "0        254421.0                             43   \n",
       "1         11574.0                             44   \n",
       "2         14684.0                              2   \n",
       "3        105386.0                              6   \n",
       "4         68918.0                              5   \n",
       "\n",
       "   tomatometer_fresh_critics_count  tomatometer_rotten_critics_count  \n",
       "0                               73                                76  \n",
       "1                              123                                19  \n",
       "2                               16                                 8  \n",
       "3                               54                                 0  \n",
       "4                               24                                 3  "
      ]
     },
     "execution_count": 5,
     "metadata": {},
     "output_type": "execute_result"
    }
   ],
   "source": [
    "# get the number of missing entries\n",
    "missing = dataSet.isnull().sum().sum()\n",
    "# get the total number of entries\n",
    "total = np.product(dataSet.shape)\n",
    "# percent missing \n",
    "percent = (missing/total)*100\n",
    "# print our results \n",
    "print(\"DataSet:\", \"Total Entries =\",total,\",Total Missing Entries =\", missing, \",percentage of missing entries =\", round(percent,2),\"%\")\n",
    "dataSet.head()"
   ]
  },
  {
   "cell_type": "markdown",
   "id": "electric-courtesy",
   "metadata": {
    "papermill": {
     "duration": 0.034805,
     "end_time": "2021-05-17T16:09:21.316154",
     "exception": false,
     "start_time": "2021-05-17T16:09:21.281349",
     "status": "completed"
    },
    "tags": []
   },
   "source": [
    "\n",
    "<font size=4>As we can see, missing entires in the dataset only account for 2.2 percent of the total entries. Therefore it is safe to drop all missing values without much effect to our analysis. (inorder words, I don't believe theres much we can infer from the lost 2.2 percent)</font><br/>\n"
   ]
  },
  {
   "cell_type": "code",
   "execution_count": 6,
   "id": "gross-albert",
   "metadata": {
    "execution": {
     "iopub.execute_input": "2021-05-17T16:09:21.403401Z",
     "iopub.status.busy": "2021-05-17T16:09:21.402558Z",
     "iopub.status.idle": "2021-05-17T16:09:21.431412Z",
     "shell.execute_reply": "2021-05-17T16:09:21.430810Z"
    },
    "papermill": {
     "duration": 0.080309,
     "end_time": "2021-05-17T16:09:21.431541",
     "exception": false,
     "start_time": "2021-05-17T16:09:21.351232",
     "status": "completed"
    },
    "tags": []
   },
   "outputs": [],
   "source": [
    "# Drop all missing entries\n",
    "dataSet = dataSet.dropna()\n",
    "#dataSet.head()"
   ]
  },
  {
   "cell_type": "markdown",
   "id": "stuffed-endorsement",
   "metadata": {
    "papermill": {
     "duration": 0.034857,
     "end_time": "2021-05-17T16:09:21.501602",
     "exception": false,
     "start_time": "2021-05-17T16:09:21.466745",
     "status": "completed"
    },
    "tags": []
   },
   "source": [
    "<h2 class=\"card-title\">Droping Uneeded Columns</h2>\n",
    "<font size=4>  For the purposes of our analysis, we only need the following columns; Content Rating, genres, original release date, tomatometer count, tomato metter ratings, tomatometer status, , audience_count, audience status, audience ratings,, tomato top critic count, tomator fresh critic ratings, tomato rotten critic ratings. While acknowledging that other scientists may find the dropped columns insignful, it is at their disposal to experiment with them. </font><br/>"
   ]
  },
  {
   "cell_type": "code",
   "execution_count": 7,
   "id": "sacred-hungary",
   "metadata": {
    "execution": {
     "iopub.execute_input": "2021-05-17T16:09:21.596835Z",
     "iopub.status.busy": "2021-05-17T16:09:21.596273Z",
     "iopub.status.idle": "2021-05-17T16:09:21.599608Z",
     "shell.execute_reply": "2021-05-17T16:09:21.600046Z"
    },
    "papermill": {
     "duration": 0.063508,
     "end_time": "2021-05-17T16:09:21.600217",
     "exception": false,
     "start_time": "2021-05-17T16:09:21.536709",
     "status": "completed"
    },
    "tags": []
   },
   "outputs": [
    {
     "data": {
      "text/html": [
       "<div>\n",
       "<style scoped>\n",
       "    .dataframe tbody tr th:only-of-type {\n",
       "        vertical-align: middle;\n",
       "    }\n",
       "\n",
       "    .dataframe tbody tr th {\n",
       "        vertical-align: top;\n",
       "    }\n",
       "\n",
       "    .dataframe thead th {\n",
       "        text-align: right;\n",
       "    }\n",
       "</style>\n",
       "<table border=\"1\" class=\"dataframe\">\n",
       "  <thead>\n",
       "    <tr style=\"text-align: right;\">\n",
       "      <th></th>\n",
       "      <th>content_rating</th>\n",
       "      <th>original_release_date</th>\n",
       "      <th>tomatometer_count</th>\n",
       "      <th>tomatometer_rating</th>\n",
       "      <th>tomatometer_status</th>\n",
       "      <th>audience_count</th>\n",
       "      <th>audience_rating</th>\n",
       "      <th>audience_status</th>\n",
       "      <th>tomatometer_top_critics_count</th>\n",
       "      <th>tomatometer_fresh_critics_count</th>\n",
       "      <th>tomatometer_rotten_critics_count</th>\n",
       "    </tr>\n",
       "  </thead>\n",
       "  <tbody>\n",
       "    <tr>\n",
       "      <th>0</th>\n",
       "      <td>PG</td>\n",
       "      <td>2010-02-12</td>\n",
       "      <td>149.0</td>\n",
       "      <td>49.0</td>\n",
       "      <td>Rotten</td>\n",
       "      <td>254421.0</td>\n",
       "      <td>53.0</td>\n",
       "      <td>Spilled</td>\n",
       "      <td>43</td>\n",
       "      <td>73</td>\n",
       "      <td>76</td>\n",
       "    </tr>\n",
       "    <tr>\n",
       "      <th>1</th>\n",
       "      <td>R</td>\n",
       "      <td>2010-04-30</td>\n",
       "      <td>142.0</td>\n",
       "      <td>87.0</td>\n",
       "      <td>Certified-Fresh</td>\n",
       "      <td>11574.0</td>\n",
       "      <td>64.0</td>\n",
       "      <td>Upright</td>\n",
       "      <td>44</td>\n",
       "      <td>123</td>\n",
       "      <td>19</td>\n",
       "    </tr>\n",
       "    <tr>\n",
       "      <th>2</th>\n",
       "      <td>R</td>\n",
       "      <td>1979-10-05</td>\n",
       "      <td>24.0</td>\n",
       "      <td>67.0</td>\n",
       "      <td>Fresh</td>\n",
       "      <td>14684.0</td>\n",
       "      <td>53.0</td>\n",
       "      <td>Spilled</td>\n",
       "      <td>2</td>\n",
       "      <td>16</td>\n",
       "      <td>8</td>\n",
       "    </tr>\n",
       "    <tr>\n",
       "      <th>3</th>\n",
       "      <td>NR</td>\n",
       "      <td>1957-04-13</td>\n",
       "      <td>54.0</td>\n",
       "      <td>100.0</td>\n",
       "      <td>Certified-Fresh</td>\n",
       "      <td>105386.0</td>\n",
       "      <td>97.0</td>\n",
       "      <td>Upright</td>\n",
       "      <td>6</td>\n",
       "      <td>54</td>\n",
       "      <td>0</td>\n",
       "    </tr>\n",
       "    <tr>\n",
       "      <th>4</th>\n",
       "      <td>G</td>\n",
       "      <td>1954-01-01</td>\n",
       "      <td>27.0</td>\n",
       "      <td>89.0</td>\n",
       "      <td>Fresh</td>\n",
       "      <td>68918.0</td>\n",
       "      <td>74.0</td>\n",
       "      <td>Upright</td>\n",
       "      <td>5</td>\n",
       "      <td>24</td>\n",
       "      <td>3</td>\n",
       "    </tr>\n",
       "    <tr>\n",
       "      <th>...</th>\n",
       "      <td>...</td>\n",
       "      <td>...</td>\n",
       "      <td>...</td>\n",
       "      <td>...</td>\n",
       "      <td>...</td>\n",
       "      <td>...</td>\n",
       "      <td>...</td>\n",
       "      <td>...</td>\n",
       "      <td>...</td>\n",
       "      <td>...</td>\n",
       "      <td>...</td>\n",
       "    </tr>\n",
       "    <tr>\n",
       "      <th>17704</th>\n",
       "      <td>PG-13</td>\n",
       "      <td>2001-09-28</td>\n",
       "      <td>138.0</td>\n",
       "      <td>64.0</td>\n",
       "      <td>Fresh</td>\n",
       "      <td>944800.0</td>\n",
       "      <td>80.0</td>\n",
       "      <td>Upright</td>\n",
       "      <td>33</td>\n",
       "      <td>88</td>\n",
       "      <td>50</td>\n",
       "    </tr>\n",
       "    <tr>\n",
       "      <th>17705</th>\n",
       "      <td>PG-13</td>\n",
       "      <td>2016-02-12</td>\n",
       "      <td>232.0</td>\n",
       "      <td>22.0</td>\n",
       "      <td>Rotten</td>\n",
       "      <td>41745.0</td>\n",
       "      <td>20.0</td>\n",
       "      <td>Spilled</td>\n",
       "      <td>48</td>\n",
       "      <td>51</td>\n",
       "      <td>181</td>\n",
       "    </tr>\n",
       "    <tr>\n",
       "      <th>17706</th>\n",
       "      <td>PG</td>\n",
       "      <td>2006-08-11</td>\n",
       "      <td>68.0</td>\n",
       "      <td>4.0</td>\n",
       "      <td>Rotten</td>\n",
       "      <td>11369.0</td>\n",
       "      <td>33.0</td>\n",
       "      <td>Spilled</td>\n",
       "      <td>19</td>\n",
       "      <td>3</td>\n",
       "      <td>65</td>\n",
       "    </tr>\n",
       "    <tr>\n",
       "      <th>17708</th>\n",
       "      <td>PG</td>\n",
       "      <td>2016-03-04</td>\n",
       "      <td>291.0</td>\n",
       "      <td>98.0</td>\n",
       "      <td>Certified-Fresh</td>\n",
       "      <td>101511.0</td>\n",
       "      <td>92.0</td>\n",
       "      <td>Upright</td>\n",
       "      <td>50</td>\n",
       "      <td>285</td>\n",
       "      <td>7</td>\n",
       "    </tr>\n",
       "    <tr>\n",
       "      <th>17710</th>\n",
       "      <td>PG</td>\n",
       "      <td>1964-06-17</td>\n",
       "      <td>23.0</td>\n",
       "      <td>96.0</td>\n",
       "      <td>Fresh</td>\n",
       "      <td>30193.0</td>\n",
       "      <td>91.0</td>\n",
       "      <td>Upright</td>\n",
       "      <td>6</td>\n",
       "      <td>22</td>\n",
       "      <td>1</td>\n",
       "    </tr>\n",
       "  </tbody>\n",
       "</table>\n",
       "<p>8077 rows × 11 columns</p>\n",
       "</div>"
      ],
      "text/plain": [
       "      content_rating original_release_date  tomatometer_count  \\\n",
       "0                 PG            2010-02-12              149.0   \n",
       "1                  R            2010-04-30              142.0   \n",
       "2                  R            1979-10-05               24.0   \n",
       "3                 NR            1957-04-13               54.0   \n",
       "4                  G            1954-01-01               27.0   \n",
       "...              ...                   ...                ...   \n",
       "17704          PG-13            2001-09-28              138.0   \n",
       "17705          PG-13            2016-02-12              232.0   \n",
       "17706             PG            2006-08-11               68.0   \n",
       "17708             PG            2016-03-04              291.0   \n",
       "17710             PG            1964-06-17               23.0   \n",
       "\n",
       "       tomatometer_rating tomatometer_status  audience_count  audience_rating  \\\n",
       "0                    49.0             Rotten        254421.0             53.0   \n",
       "1                    87.0    Certified-Fresh         11574.0             64.0   \n",
       "2                    67.0              Fresh         14684.0             53.0   \n",
       "3                   100.0    Certified-Fresh        105386.0             97.0   \n",
       "4                    89.0              Fresh         68918.0             74.0   \n",
       "...                   ...                ...             ...              ...   \n",
       "17704                64.0              Fresh        944800.0             80.0   \n",
       "17705                22.0             Rotten         41745.0             20.0   \n",
       "17706                 4.0             Rotten         11369.0             33.0   \n",
       "17708                98.0    Certified-Fresh        101511.0             92.0   \n",
       "17710                96.0              Fresh         30193.0             91.0   \n",
       "\n",
       "      audience_status  tomatometer_top_critics_count  \\\n",
       "0             Spilled                             43   \n",
       "1             Upright                             44   \n",
       "2             Spilled                              2   \n",
       "3             Upright                              6   \n",
       "4             Upright                              5   \n",
       "...               ...                            ...   \n",
       "17704         Upright                             33   \n",
       "17705         Spilled                             48   \n",
       "17706         Spilled                             19   \n",
       "17708         Upright                             50   \n",
       "17710         Upright                              6   \n",
       "\n",
       "       tomatometer_fresh_critics_count  tomatometer_rotten_critics_count  \n",
       "0                                   73                                76  \n",
       "1                                  123                                19  \n",
       "2                                   16                                 8  \n",
       "3                                   54                                 0  \n",
       "4                                   24                                 3  \n",
       "...                                ...                               ...  \n",
       "17704                               88                                50  \n",
       "17705                               51                               181  \n",
       "17706                                3                                65  \n",
       "17708                              285                                 7  \n",
       "17710                               22                                 1  \n",
       "\n",
       "[8077 rows x 11 columns]"
      ]
     },
     "execution_count": 7,
     "metadata": {},
     "output_type": "execute_result"
    }
   ],
   "source": [
    "dataSet = dataSet.loc[:, ['content_rating', 'original_release_date', 'tomatometer_count', 'tomatometer_rating', \"tomatometer_status\", 'audience_count','audience_rating', 'audience_status',\n",
    "                         'tomatometer_top_critics_count', 'tomatometer_fresh_critics_count', 'tomatometer_rotten_critics_count']]\n",
    "dataSet"
   ]
  },
  {
   "cell_type": "markdown",
   "id": "rural-economy",
   "metadata": {
    "papermill": {
     "duration": 0.035747,
     "end_time": "2021-05-17T16:09:21.672747",
     "exception": false,
     "start_time": "2021-05-17T16:09:21.637000",
     "status": "completed"
    },
    "tags": []
   },
   "source": [
    "<h2 class=\"card-title\"> Data Categorization</h2>"
   ]
  },
  {
   "cell_type": "markdown",
   "id": "parallel-teens",
   "metadata": {
    "papermill": {
     "duration": 0.035528,
     "end_time": "2021-05-17T16:09:21.744871",
     "exception": false,
     "start_time": "2021-05-17T16:09:21.709343",
     "status": "completed"
    },
    "tags": []
   },
   "source": [
    "<h3 class=\"card-title\">Categorical Data</h3>"
   ]
  },
  {
   "cell_type": "markdown",
   "id": "seeing-defense",
   "metadata": {
    "papermill": {
     "duration": 0.035753,
     "end_time": "2021-05-17T16:09:21.816580",
     "exception": false,
     "start_time": "2021-05-17T16:09:21.780827",
     "status": "completed"
    },
    "tags": []
   },
   "source": [
    "<font size=4> Becuase this is a machine learning project, and we want to be able to visually plot our data, we want to convert all categorical data into a numerical representation.</font><br/>\n",
    "<font size=4>1. We begin with the tomato status. These are represented for both critics and audiences.</font><br/>"
   ]
  },
  {
   "cell_type": "code",
   "execution_count": 8,
   "id": "primary-undergraduate",
   "metadata": {
    "execution": {
     "iopub.execute_input": "2021-05-17T16:09:21.894199Z",
     "iopub.status.busy": "2021-05-17T16:09:21.893623Z",
     "iopub.status.idle": "2021-05-17T16:09:21.899047Z",
     "shell.execute_reply": "2021-05-17T16:09:21.898615Z"
    },
    "papermill": {
     "duration": 0.046807,
     "end_time": "2021-05-17T16:09:21.899172",
     "exception": false,
     "start_time": "2021-05-17T16:09:21.852365",
     "status": "completed"
    },
    "tags": []
   },
   "outputs": [
    {
     "name": "stdout",
     "output_type": "stream",
     "text": [
      "critics status categories  ['Rotten' 'Certified-Fresh' 'Fresh']\n",
      "audience status categories  ['Spilled' 'Upright']\n"
     ]
    }
   ],
   "source": [
    "# Print all unique values for the critic column\n",
    "print(\"critics status categories \",dataSet.tomatometer_status.unique())\n",
    "# Print all unique values for the audience column\n",
    "print(\"audience status categories \",dataSet.audience_status.unique())"
   ]
  },
  {
   "cell_type": "markdown",
   "id": "processed-surfing",
   "metadata": {
    "papermill": {
     "duration": 0.035994,
     "end_time": "2021-05-17T16:09:21.971860",
     "exception": false,
     "start_time": "2021-05-17T16:09:21.935866",
     "status": "completed"
    },
    "tags": []
   },
   "source": [
    "<font size=4>As we can see, the critic status has an addition category (certified-fresh), which makes comparison between audience and critic harder. But according to definitions;</font><br/>\n",
    "<font size=4><b>tomatometer (critic) status</b>: tomatometer value of \"Rotten\" (less than 60% positive reviews), \"Fresh\" (at least 60% of positive reviews), and \"Certified Fresh\" (at least 75%)</font> <br/>\n",
    "<font size=4><b>audience status</b>: audience value of \"Spilled\" (less than 60% of users gave a rating of at least 3.5) or \"Upright\" (at least 60% of users) </font> <br/><br/>\n",
    "<font size=4>We see that the Certified fresh status is just a subset of the fresh status, so we just ignore the \"certified fresh\", as there is no way to generate the status from the audience information provided.</font><br/>\n",
    "<font size=4>To categorize the categories numerically, we would represent Rotten as 1 and Fresh as 2. Below is the code used for the transoformation and the result.</font><br/>"
   ]
  },
  {
   "cell_type": "code",
   "execution_count": 9,
   "id": "connected-volleyball",
   "metadata": {
    "execution": {
     "iopub.execute_input": "2021-05-17T16:09:22.075489Z",
     "iopub.status.busy": "2021-05-17T16:09:22.074580Z",
     "iopub.status.idle": "2021-05-17T16:09:22.078092Z",
     "shell.execute_reply": "2021-05-17T16:09:22.078476Z"
    },
    "papermill": {
     "duration": 0.070561,
     "end_time": "2021-05-17T16:09:22.078639",
     "exception": false,
     "start_time": "2021-05-17T16:09:22.008078",
     "status": "completed"
    },
    "tags": []
   },
   "outputs": [
    {
     "data": {
      "text/html": [
       "<div>\n",
       "<style scoped>\n",
       "    .dataframe tbody tr th:only-of-type {\n",
       "        vertical-align: middle;\n",
       "    }\n",
       "\n",
       "    .dataframe tbody tr th {\n",
       "        vertical-align: top;\n",
       "    }\n",
       "\n",
       "    .dataframe thead th {\n",
       "        text-align: right;\n",
       "    }\n",
       "</style>\n",
       "<table border=\"1\" class=\"dataframe\">\n",
       "  <thead>\n",
       "    <tr style=\"text-align: right;\">\n",
       "      <th></th>\n",
       "      <th>content_rating</th>\n",
       "      <th>original_release_date</th>\n",
       "      <th>tomatometer_count</th>\n",
       "      <th>tomatometer_rating</th>\n",
       "      <th>critics_status</th>\n",
       "      <th>audience_count</th>\n",
       "      <th>audience_rating</th>\n",
       "      <th>audience_status</th>\n",
       "      <th>tomatometer_top_critics_count</th>\n",
       "      <th>tomatometer_fresh_critics_count</th>\n",
       "      <th>tomatometer_rotten_critics_count</th>\n",
       "    </tr>\n",
       "  </thead>\n",
       "  <tbody>\n",
       "    <tr>\n",
       "      <th>0</th>\n",
       "      <td>PG</td>\n",
       "      <td>2010-02-12</td>\n",
       "      <td>149.0</td>\n",
       "      <td>49.0</td>\n",
       "      <td>1</td>\n",
       "      <td>254421.0</td>\n",
       "      <td>53.0</td>\n",
       "      <td>1</td>\n",
       "      <td>43</td>\n",
       "      <td>73</td>\n",
       "      <td>76</td>\n",
       "    </tr>\n",
       "    <tr>\n",
       "      <th>1</th>\n",
       "      <td>R</td>\n",
       "      <td>2010-04-30</td>\n",
       "      <td>142.0</td>\n",
       "      <td>87.0</td>\n",
       "      <td>2</td>\n",
       "      <td>11574.0</td>\n",
       "      <td>64.0</td>\n",
       "      <td>2</td>\n",
       "      <td>44</td>\n",
       "      <td>123</td>\n",
       "      <td>19</td>\n",
       "    </tr>\n",
       "    <tr>\n",
       "      <th>2</th>\n",
       "      <td>R</td>\n",
       "      <td>1979-10-05</td>\n",
       "      <td>24.0</td>\n",
       "      <td>67.0</td>\n",
       "      <td>2</td>\n",
       "      <td>14684.0</td>\n",
       "      <td>53.0</td>\n",
       "      <td>1</td>\n",
       "      <td>2</td>\n",
       "      <td>16</td>\n",
       "      <td>8</td>\n",
       "    </tr>\n",
       "    <tr>\n",
       "      <th>3</th>\n",
       "      <td>NR</td>\n",
       "      <td>1957-04-13</td>\n",
       "      <td>54.0</td>\n",
       "      <td>100.0</td>\n",
       "      <td>2</td>\n",
       "      <td>105386.0</td>\n",
       "      <td>97.0</td>\n",
       "      <td>2</td>\n",
       "      <td>6</td>\n",
       "      <td>54</td>\n",
       "      <td>0</td>\n",
       "    </tr>\n",
       "    <tr>\n",
       "      <th>4</th>\n",
       "      <td>G</td>\n",
       "      <td>1954-01-01</td>\n",
       "      <td>27.0</td>\n",
       "      <td>89.0</td>\n",
       "      <td>2</td>\n",
       "      <td>68918.0</td>\n",
       "      <td>74.0</td>\n",
       "      <td>2</td>\n",
       "      <td>5</td>\n",
       "      <td>24</td>\n",
       "      <td>3</td>\n",
       "    </tr>\n",
       "    <tr>\n",
       "      <th>...</th>\n",
       "      <td>...</td>\n",
       "      <td>...</td>\n",
       "      <td>...</td>\n",
       "      <td>...</td>\n",
       "      <td>...</td>\n",
       "      <td>...</td>\n",
       "      <td>...</td>\n",
       "      <td>...</td>\n",
       "      <td>...</td>\n",
       "      <td>...</td>\n",
       "      <td>...</td>\n",
       "    </tr>\n",
       "    <tr>\n",
       "      <th>17704</th>\n",
       "      <td>PG-13</td>\n",
       "      <td>2001-09-28</td>\n",
       "      <td>138.0</td>\n",
       "      <td>64.0</td>\n",
       "      <td>2</td>\n",
       "      <td>944800.0</td>\n",
       "      <td>80.0</td>\n",
       "      <td>2</td>\n",
       "      <td>33</td>\n",
       "      <td>88</td>\n",
       "      <td>50</td>\n",
       "    </tr>\n",
       "    <tr>\n",
       "      <th>17705</th>\n",
       "      <td>PG-13</td>\n",
       "      <td>2016-02-12</td>\n",
       "      <td>232.0</td>\n",
       "      <td>22.0</td>\n",
       "      <td>1</td>\n",
       "      <td>41745.0</td>\n",
       "      <td>20.0</td>\n",
       "      <td>1</td>\n",
       "      <td>48</td>\n",
       "      <td>51</td>\n",
       "      <td>181</td>\n",
       "    </tr>\n",
       "    <tr>\n",
       "      <th>17706</th>\n",
       "      <td>PG</td>\n",
       "      <td>2006-08-11</td>\n",
       "      <td>68.0</td>\n",
       "      <td>4.0</td>\n",
       "      <td>1</td>\n",
       "      <td>11369.0</td>\n",
       "      <td>33.0</td>\n",
       "      <td>1</td>\n",
       "      <td>19</td>\n",
       "      <td>3</td>\n",
       "      <td>65</td>\n",
       "    </tr>\n",
       "    <tr>\n",
       "      <th>17708</th>\n",
       "      <td>PG</td>\n",
       "      <td>2016-03-04</td>\n",
       "      <td>291.0</td>\n",
       "      <td>98.0</td>\n",
       "      <td>2</td>\n",
       "      <td>101511.0</td>\n",
       "      <td>92.0</td>\n",
       "      <td>2</td>\n",
       "      <td>50</td>\n",
       "      <td>285</td>\n",
       "      <td>7</td>\n",
       "    </tr>\n",
       "    <tr>\n",
       "      <th>17710</th>\n",
       "      <td>PG</td>\n",
       "      <td>1964-06-17</td>\n",
       "      <td>23.0</td>\n",
       "      <td>96.0</td>\n",
       "      <td>2</td>\n",
       "      <td>30193.0</td>\n",
       "      <td>91.0</td>\n",
       "      <td>2</td>\n",
       "      <td>6</td>\n",
       "      <td>22</td>\n",
       "      <td>1</td>\n",
       "    </tr>\n",
       "  </tbody>\n",
       "</table>\n",
       "<p>8077 rows × 11 columns</p>\n",
       "</div>"
      ],
      "text/plain": [
       "      content_rating original_release_date  tomatometer_count  \\\n",
       "0                 PG            2010-02-12              149.0   \n",
       "1                  R            2010-04-30              142.0   \n",
       "2                  R            1979-10-05               24.0   \n",
       "3                 NR            1957-04-13               54.0   \n",
       "4                  G            1954-01-01               27.0   \n",
       "...              ...                   ...                ...   \n",
       "17704          PG-13            2001-09-28              138.0   \n",
       "17705          PG-13            2016-02-12              232.0   \n",
       "17706             PG            2006-08-11               68.0   \n",
       "17708             PG            2016-03-04              291.0   \n",
       "17710             PG            1964-06-17               23.0   \n",
       "\n",
       "       tomatometer_rating  critics_status  audience_count  audience_rating  \\\n",
       "0                    49.0               1        254421.0             53.0   \n",
       "1                    87.0               2         11574.0             64.0   \n",
       "2                    67.0               2         14684.0             53.0   \n",
       "3                   100.0               2        105386.0             97.0   \n",
       "4                    89.0               2         68918.0             74.0   \n",
       "...                   ...             ...             ...              ...   \n",
       "17704                64.0               2        944800.0             80.0   \n",
       "17705                22.0               1         41745.0             20.0   \n",
       "17706                 4.0               1         11369.0             33.0   \n",
       "17708                98.0               2        101511.0             92.0   \n",
       "17710                96.0               2         30193.0             91.0   \n",
       "\n",
       "       audience_status  tomatometer_top_critics_count  \\\n",
       "0                    1                             43   \n",
       "1                    2                             44   \n",
       "2                    1                              2   \n",
       "3                    2                              6   \n",
       "4                    2                              5   \n",
       "...                ...                            ...   \n",
       "17704                2                             33   \n",
       "17705                1                             48   \n",
       "17706                1                             19   \n",
       "17708                2                             50   \n",
       "17710                2                              6   \n",
       "\n",
       "       tomatometer_fresh_critics_count  tomatometer_rotten_critics_count  \n",
       "0                                   73                                76  \n",
       "1                                  123                                19  \n",
       "2                                   16                                 8  \n",
       "3                                   54                                 0  \n",
       "4                                   24                                 3  \n",
       "...                                ...                               ...  \n",
       "17704                               88                                50  \n",
       "17705                               51                               181  \n",
       "17706                                3                                65  \n",
       "17708                              285                                 7  \n",
       "17710                               22                                 1  \n",
       "\n",
       "[8077 rows x 11 columns]"
      ]
     },
     "execution_count": 9,
     "metadata": {},
     "output_type": "execute_result"
    }
   ],
   "source": [
    "# firtst, rename the column name tomatometer status to critic status to avoid abiguity (it is basically the critics status worded differently)\n",
    "dataSet.rename(columns={'tomatometer_status': 'critics_status'}, inplace=True)\n",
    "# function to transform the column\n",
    "# combine fresh and certified and Upright as the numberical value 2, and rotten as 1\n",
    "categorical_to_numerical = lambda x: 2 if (x=='Fresh' or x=='Certified-Fresh' or x==\"Upright\") else 1\n",
    "# Apply the function to both maps\n",
    "dataSet.audience_status = dataSet.audience_status.map(categorical_to_numerical)\n",
    "dataSet.critics_status = dataSet.critics_status.map(categorical_to_numerical)\n",
    "dataSet"
   ]
  },
  {
   "cell_type": "markdown",
   "id": "competitive-notebook",
   "metadata": {
    "papermill": {
     "duration": 0.037352,
     "end_time": "2021-05-17T16:09:22.154015",
     "exception": false,
     "start_time": "2021-05-17T16:09:22.116663",
     "status": "completed"
    },
    "tags": []
   },
   "source": [
    "<font size=4>1. Next, we categorize the content-rating column.</font><br/>"
   ]
  },
  {
   "cell_type": "code",
   "execution_count": 10,
   "id": "fewer-pulse",
   "metadata": {
    "execution": {
     "iopub.execute_input": "2021-05-17T16:09:22.232878Z",
     "iopub.status.busy": "2021-05-17T16:09:22.232027Z",
     "iopub.status.idle": "2021-05-17T16:09:22.237887Z",
     "shell.execute_reply": "2021-05-17T16:09:22.238290Z"
    },
    "papermill": {
     "duration": 0.046546,
     "end_time": "2021-05-17T16:09:22.238459",
     "exception": false,
     "start_time": "2021-05-17T16:09:22.191913",
     "status": "completed"
    },
    "tags": []
   },
   "outputs": [
    {
     "name": "stdout",
     "output_type": "stream",
     "text": [
      "Content rating categories categories  ['PG' 'R' 'NR' 'G' 'PG-13' 'NC17']\n"
     ]
    }
   ],
   "source": [
    "# Print all unique values for the content-rating column\n",
    "print(\"Content rating categories categories \",dataSet.content_rating.unique())"
   ]
  },
  {
   "cell_type": "markdown",
   "id": "hourly-medicare",
   "metadata": {
    "papermill": {
     "duration": 0.037264,
     "end_time": "2021-05-17T16:09:22.313254",
     "exception": false,
     "start_time": "2021-05-17T16:09:22.275990",
     "status": "completed"
    },
    "tags": []
   },
   "source": [
    "<font size=4>We see that there are 6 different unique ratings, so we categorize then as 1 to 6 with; NR = 1, PG = 2, PG-13 = 3, G = 4, NC17 = 5, R = 6</font><br/>"
   ]
  },
  {
   "cell_type": "code",
   "execution_count": 11,
   "id": "korean-satellite",
   "metadata": {
    "execution": {
     "iopub.execute_input": "2021-05-17T16:09:22.408018Z",
     "iopub.status.busy": "2021-05-17T16:09:22.407229Z",
     "iopub.status.idle": "2021-05-17T16:09:22.410520Z",
     "shell.execute_reply": "2021-05-17T16:09:22.410872Z"
    },
    "papermill": {
     "duration": 0.060062,
     "end_time": "2021-05-17T16:09:22.411033",
     "exception": false,
     "start_time": "2021-05-17T16:09:22.350971",
     "status": "completed"
    },
    "tags": []
   },
   "outputs": [
    {
     "data": {
      "text/html": [
       "<div>\n",
       "<style scoped>\n",
       "    .dataframe tbody tr th:only-of-type {\n",
       "        vertical-align: middle;\n",
       "    }\n",
       "\n",
       "    .dataframe tbody tr th {\n",
       "        vertical-align: top;\n",
       "    }\n",
       "\n",
       "    .dataframe thead th {\n",
       "        text-align: right;\n",
       "    }\n",
       "</style>\n",
       "<table border=\"1\" class=\"dataframe\">\n",
       "  <thead>\n",
       "    <tr style=\"text-align: right;\">\n",
       "      <th></th>\n",
       "      <th>content_rating</th>\n",
       "      <th>original_release_date</th>\n",
       "      <th>tomatometer_count</th>\n",
       "      <th>tomatometer_rating</th>\n",
       "      <th>critics_status</th>\n",
       "      <th>audience_count</th>\n",
       "      <th>audience_rating</th>\n",
       "      <th>audience_status</th>\n",
       "      <th>tomatometer_top_critics_count</th>\n",
       "      <th>tomatometer_fresh_critics_count</th>\n",
       "      <th>tomatometer_rotten_critics_count</th>\n",
       "    </tr>\n",
       "  </thead>\n",
       "  <tbody>\n",
       "    <tr>\n",
       "      <th>0</th>\n",
       "      <td>2</td>\n",
       "      <td>2010-02-12</td>\n",
       "      <td>149.0</td>\n",
       "      <td>49.0</td>\n",
       "      <td>1</td>\n",
       "      <td>254421.0</td>\n",
       "      <td>53.0</td>\n",
       "      <td>1</td>\n",
       "      <td>43</td>\n",
       "      <td>73</td>\n",
       "      <td>76</td>\n",
       "    </tr>\n",
       "    <tr>\n",
       "      <th>1</th>\n",
       "      <td>6</td>\n",
       "      <td>2010-04-30</td>\n",
       "      <td>142.0</td>\n",
       "      <td>87.0</td>\n",
       "      <td>2</td>\n",
       "      <td>11574.0</td>\n",
       "      <td>64.0</td>\n",
       "      <td>2</td>\n",
       "      <td>44</td>\n",
       "      <td>123</td>\n",
       "      <td>19</td>\n",
       "    </tr>\n",
       "    <tr>\n",
       "      <th>2</th>\n",
       "      <td>6</td>\n",
       "      <td>1979-10-05</td>\n",
       "      <td>24.0</td>\n",
       "      <td>67.0</td>\n",
       "      <td>2</td>\n",
       "      <td>14684.0</td>\n",
       "      <td>53.0</td>\n",
       "      <td>1</td>\n",
       "      <td>2</td>\n",
       "      <td>16</td>\n",
       "      <td>8</td>\n",
       "    </tr>\n",
       "    <tr>\n",
       "      <th>3</th>\n",
       "      <td>1</td>\n",
       "      <td>1957-04-13</td>\n",
       "      <td>54.0</td>\n",
       "      <td>100.0</td>\n",
       "      <td>2</td>\n",
       "      <td>105386.0</td>\n",
       "      <td>97.0</td>\n",
       "      <td>2</td>\n",
       "      <td>6</td>\n",
       "      <td>54</td>\n",
       "      <td>0</td>\n",
       "    </tr>\n",
       "    <tr>\n",
       "      <th>4</th>\n",
       "      <td>4</td>\n",
       "      <td>1954-01-01</td>\n",
       "      <td>27.0</td>\n",
       "      <td>89.0</td>\n",
       "      <td>2</td>\n",
       "      <td>68918.0</td>\n",
       "      <td>74.0</td>\n",
       "      <td>2</td>\n",
       "      <td>5</td>\n",
       "      <td>24</td>\n",
       "      <td>3</td>\n",
       "    </tr>\n",
       "  </tbody>\n",
       "</table>\n",
       "</div>"
      ],
      "text/plain": [
       "   content_rating original_release_date  tomatometer_count  \\\n",
       "0               2            2010-02-12              149.0   \n",
       "1               6            2010-04-30              142.0   \n",
       "2               6            1979-10-05               24.0   \n",
       "3               1            1957-04-13               54.0   \n",
       "4               4            1954-01-01               27.0   \n",
       "\n",
       "   tomatometer_rating  critics_status  audience_count  audience_rating  \\\n",
       "0                49.0               1        254421.0             53.0   \n",
       "1                87.0               2         11574.0             64.0   \n",
       "2                67.0               2         14684.0             53.0   \n",
       "3               100.0               2        105386.0             97.0   \n",
       "4                89.0               2         68918.0             74.0   \n",
       "\n",
       "   audience_status  tomatometer_top_critics_count  \\\n",
       "0                1                             43   \n",
       "1                2                             44   \n",
       "2                1                              2   \n",
       "3                2                              6   \n",
       "4                2                              5   \n",
       "\n",
       "   tomatometer_fresh_critics_count  tomatometer_rotten_critics_count  \n",
       "0                               73                                76  \n",
       "1                              123                                19  \n",
       "2                               16                                 8  \n",
       "3                               54                                 0  \n",
       "4                               24                                 3  "
      ]
     },
     "execution_count": 11,
     "metadata": {},
     "output_type": "execute_result"
    }
   ],
   "source": [
    "# function to categorize the data \n",
    "def categorize(val):\n",
    "    if val == 'NR':\n",
    "        return 1\n",
    "    elif val == 'PG':\n",
    "        return 2\n",
    "    elif val == 'PG-13':\n",
    "        return 3\n",
    "    elif val == \"G\":\n",
    "        return 4 \n",
    "    elif val == \"NC17\":\n",
    "        return 5 \n",
    "    else:\n",
    "        return 6\n",
    "# apply the function to columns \n",
    "dataSet.content_rating = dataSet.content_rating.map(categorize)\n",
    "dataSet.head()"
   ]
  },
  {
   "cell_type": "markdown",
   "id": "charitable-dragon",
   "metadata": {
    "papermill": {
     "duration": 0.037803,
     "end_time": "2021-05-17T16:09:22.486469",
     "exception": false,
     "start_time": "2021-05-17T16:09:22.448666",
     "status": "completed"
    },
    "tags": []
   },
   "source": [
    "\n",
    "<font size=4>Next,  see that the top critic fresh and rotten counts are given, but that of the audience is not. Luckily, we can derive the information from the audience column, based on the rating and count. This means ((audience rating)/100 * audience count) is the count for fresh ratings, and that audience count - that number is the count for rotten ratings.</font><br/>\n"
   ]
  },
  {
   "cell_type": "code",
   "execution_count": 12,
   "id": "inside-figure",
   "metadata": {
    "execution": {
     "iopub.execute_input": "2021-05-17T16:09:22.566100Z",
     "iopub.status.busy": "2021-05-17T16:09:22.565310Z",
     "iopub.status.idle": "2021-05-17T16:09:23.655592Z",
     "shell.execute_reply": "2021-05-17T16:09:23.655119Z"
    },
    "papermill": {
     "duration": 1.130998,
     "end_time": "2021-05-17T16:09:23.655728",
     "exception": false,
     "start_time": "2021-05-17T16:09:22.524730",
     "status": "completed"
    },
    "tags": []
   },
   "outputs": [
    {
     "data": {
      "text/html": [
       "<div>\n",
       "<style scoped>\n",
       "    .dataframe tbody tr th:only-of-type {\n",
       "        vertical-align: middle;\n",
       "    }\n",
       "\n",
       "    .dataframe tbody tr th {\n",
       "        vertical-align: top;\n",
       "    }\n",
       "\n",
       "    .dataframe thead th {\n",
       "        text-align: right;\n",
       "    }\n",
       "</style>\n",
       "<table border=\"1\" class=\"dataframe\">\n",
       "  <thead>\n",
       "    <tr style=\"text-align: right;\">\n",
       "      <th></th>\n",
       "      <th>content_rating</th>\n",
       "      <th>original_release_date</th>\n",
       "      <th>critics_count</th>\n",
       "      <th>tomatometer_rating</th>\n",
       "      <th>critics_status</th>\n",
       "      <th>audience_count</th>\n",
       "      <th>audience_rating</th>\n",
       "      <th>audience_status</th>\n",
       "      <th>tomatometer_top_critics_count</th>\n",
       "      <th>critics_fresh_count</th>\n",
       "      <th>critics_rotten_count</th>\n",
       "      <th>audience_fresh_count</th>\n",
       "      <th>audience_rotten_count</th>\n",
       "    </tr>\n",
       "  </thead>\n",
       "  <tbody>\n",
       "    <tr>\n",
       "      <th>0</th>\n",
       "      <td>2</td>\n",
       "      <td>2010-02-12</td>\n",
       "      <td>149.0</td>\n",
       "      <td>49.0</td>\n",
       "      <td>1</td>\n",
       "      <td>254421.0</td>\n",
       "      <td>53.0</td>\n",
       "      <td>1</td>\n",
       "      <td>43</td>\n",
       "      <td>73</td>\n",
       "      <td>76</td>\n",
       "      <td>134843.13</td>\n",
       "      <td>119577.87</td>\n",
       "    </tr>\n",
       "    <tr>\n",
       "      <th>1</th>\n",
       "      <td>6</td>\n",
       "      <td>2010-04-30</td>\n",
       "      <td>142.0</td>\n",
       "      <td>87.0</td>\n",
       "      <td>2</td>\n",
       "      <td>11574.0</td>\n",
       "      <td>64.0</td>\n",
       "      <td>2</td>\n",
       "      <td>44</td>\n",
       "      <td>123</td>\n",
       "      <td>19</td>\n",
       "      <td>7407.36</td>\n",
       "      <td>4166.64</td>\n",
       "    </tr>\n",
       "    <tr>\n",
       "      <th>2</th>\n",
       "      <td>6</td>\n",
       "      <td>1979-10-05</td>\n",
       "      <td>24.0</td>\n",
       "      <td>67.0</td>\n",
       "      <td>2</td>\n",
       "      <td>14684.0</td>\n",
       "      <td>53.0</td>\n",
       "      <td>1</td>\n",
       "      <td>2</td>\n",
       "      <td>16</td>\n",
       "      <td>8</td>\n",
       "      <td>7782.52</td>\n",
       "      <td>6901.48</td>\n",
       "    </tr>\n",
       "    <tr>\n",
       "      <th>3</th>\n",
       "      <td>1</td>\n",
       "      <td>1957-04-13</td>\n",
       "      <td>54.0</td>\n",
       "      <td>100.0</td>\n",
       "      <td>2</td>\n",
       "      <td>105386.0</td>\n",
       "      <td>97.0</td>\n",
       "      <td>2</td>\n",
       "      <td>6</td>\n",
       "      <td>54</td>\n",
       "      <td>0</td>\n",
       "      <td>102224.42</td>\n",
       "      <td>3161.58</td>\n",
       "    </tr>\n",
       "    <tr>\n",
       "      <th>4</th>\n",
       "      <td>4</td>\n",
       "      <td>1954-01-01</td>\n",
       "      <td>27.0</td>\n",
       "      <td>89.0</td>\n",
       "      <td>2</td>\n",
       "      <td>68918.0</td>\n",
       "      <td>74.0</td>\n",
       "      <td>2</td>\n",
       "      <td>5</td>\n",
       "      <td>24</td>\n",
       "      <td>3</td>\n",
       "      <td>50999.32</td>\n",
       "      <td>17918.68</td>\n",
       "    </tr>\n",
       "  </tbody>\n",
       "</table>\n",
       "</div>"
      ],
      "text/plain": [
       "   content_rating original_release_date  critics_count  tomatometer_rating  \\\n",
       "0               2            2010-02-12          149.0                49.0   \n",
       "1               6            2010-04-30          142.0                87.0   \n",
       "2               6            1979-10-05           24.0                67.0   \n",
       "3               1            1957-04-13           54.0               100.0   \n",
       "4               4            1954-01-01           27.0                89.0   \n",
       "\n",
       "   critics_status  audience_count  audience_rating  audience_status  \\\n",
       "0               1        254421.0             53.0                1   \n",
       "1               2         11574.0             64.0                2   \n",
       "2               2         14684.0             53.0                1   \n",
       "3               2        105386.0             97.0                2   \n",
       "4               2         68918.0             74.0                2   \n",
       "\n",
       "   tomatometer_top_critics_count  critics_fresh_count  critics_rotten_count  \\\n",
       "0                             43                   73                    76   \n",
       "1                             44                  123                    19   \n",
       "2                              2                   16                     8   \n",
       "3                              6                   54                     0   \n",
       "4                              5                   24                     3   \n",
       "\n",
       "   audience_fresh_count  audience_rotten_count  \n",
       "0             134843.13              119577.87  \n",
       "1               7407.36                4166.64  \n",
       "2               7782.52                6901.48  \n",
       "3             102224.42                3161.58  \n",
       "4              50999.32               17918.68  "
      ]
     },
     "execution_count": 12,
     "metadata": {},
     "output_type": "execute_result"
    }
   ],
   "source": [
    "# rename both columns in play for better readablity \n",
    "dataSet.rename(columns={'tomatometer_rotten_critics_count': 'critics_rotten_count'}, inplace=True)\n",
    "dataSet.rename(columns={'tomatometer_fresh_critics_count': 'critics_fresh_count'}, inplace=True)\n",
    "dataSet.rename(columns={'tomatometer_count': 'critics_count'}, inplace=True)\n",
    "# function for deriving audience data \n",
    "def audience_generator(row):\n",
    "    row.audience_fresh_count = (row.audience_rating)/100 * row.audience_count\n",
    "    row.audience_rotten_count = abs(row.audience_fresh_count - row.audience_count)\n",
    "    return row\n",
    "\n",
    "# instantiate our two needed columns\n",
    "dataSet['audience_fresh_count'] = np.nan\n",
    "dataSet['audience_rotten_count'] = np.nan\n",
    "\n",
    "# apply the function to the dataSet\n",
    "dataSet = dataSet.apply(audience_generator, axis='columns')\n",
    "\n",
    "dataSet.head()"
   ]
  },
  {
   "cell_type": "markdown",
   "id": "protected-friendship",
   "metadata": {
    "papermill": {
     "duration": 0.038178,
     "end_time": "2021-05-17T16:09:23.732695",
     "exception": false,
     "start_time": "2021-05-17T16:09:23.694517",
     "status": "completed"
    },
    "tags": []
   },
   "source": [
    "<h3 class=\"card-title\">Parsing Dates</h3>\n",
    "<font size=4>Here, we pass the movie release columns as date objects we can be able to graph them</font><br/>"
   ]
  },
  {
   "cell_type": "code",
   "execution_count": 13,
   "id": "consistent-surgery",
   "metadata": {
    "execution": {
     "iopub.execute_input": "2021-05-17T16:09:23.814604Z",
     "iopub.status.busy": "2021-05-17T16:09:23.813741Z",
     "iopub.status.idle": "2021-05-17T16:09:23.817833Z",
     "shell.execute_reply": "2021-05-17T16:09:23.817279Z"
    },
    "papermill": {
     "duration": 0.046989,
     "end_time": "2021-05-17T16:09:23.817959",
     "exception": false,
     "start_time": "2021-05-17T16:09:23.770970",
     "status": "completed"
    },
    "tags": []
   },
   "outputs": [
    {
     "data": {
      "text/plain": [
       "dtype('O')"
      ]
     },
     "execution_count": 13,
     "metadata": {},
     "output_type": "execute_result"
    }
   ],
   "source": [
    "# here we see that that release date object is not formatted correctly\n",
    "dataSet.original_release_date.dtype"
   ]
  },
  {
   "cell_type": "code",
   "execution_count": 14,
   "id": "annoying-musician",
   "metadata": {
    "execution": {
     "iopub.execute_input": "2021-05-17T16:09:23.908608Z",
     "iopub.status.busy": "2021-05-17T16:09:23.907859Z",
     "iopub.status.idle": "2021-05-17T16:09:23.910890Z",
     "shell.execute_reply": "2021-05-17T16:09:23.911307Z"
    },
    "papermill": {
     "duration": 0.052753,
     "end_time": "2021-05-17T16:09:23.911490",
     "exception": false,
     "start_time": "2021-05-17T16:09:23.858737",
     "status": "completed"
    },
    "tags": []
   },
   "outputs": [
    {
     "data": {
      "text/plain": [
       "0   2010-02-12\n",
       "1   2010-04-30\n",
       "2   1979-10-05\n",
       "3   1957-04-13\n",
       "4   1954-01-01\n",
       "Name: original_release_date, dtype: datetime64[ns]"
      ]
     },
     "execution_count": 14,
     "metadata": {},
     "output_type": "execute_result"
    }
   ],
   "source": [
    "# create a new column, date_parsed, with the parsed dates\n",
    "dataSet.original_release_date = pd.to_datetime(dataSet.original_release_date, format=\"%Y-%m-%d\")\n",
    "dataSet.original_release_date.head()"
   ]
  },
  {
   "cell_type": "markdown",
   "id": "numeric-shell",
   "metadata": {
    "papermill": {
     "duration": 0.038822,
     "end_time": "2021-05-17T16:09:23.989293",
     "exception": false,
     "start_time": "2021-05-17T16:09:23.950471",
     "status": "completed"
    },
    "tags": []
   },
   "source": [
    "<font size=4>As we can see from the new date type, we successfully passed the date object</font><br/>"
   ]
  },
  {
   "cell_type": "markdown",
   "id": "powered-vinyl",
   "metadata": {
    "papermill": {
     "duration": 0.039544,
     "end_time": "2021-05-17T16:09:24.070870",
     "exception": false,
     "start_time": "2021-05-17T16:09:24.031326",
     "status": "completed"
    },
    "tags": []
   },
   "source": [
    "\n",
    "<div class=\"text-center text-primary card-title\">\n",
    "    <hr/>\n",
    "    <h1 id=\"introduction\">4. Data Exploration</h1>\n",
    "    <hr/>\n",
    "</div>"
   ]
  },
  {
   "cell_type": "markdown",
   "id": "hazardous-inflation",
   "metadata": {
    "papermill": {
     "duration": 0.038839,
     "end_time": "2021-05-17T16:09:24.149563",
     "exception": false,
     "start_time": "2021-05-17T16:09:24.110724",
     "status": "completed"
    },
    "tags": []
   },
   "source": [
    "<font size=4>First we import code to help us with visualization</font><br/>"
   ]
  },
  {
   "cell_type": "code",
   "execution_count": 15,
   "id": "necessary-professor",
   "metadata": {
    "execution": {
     "iopub.execute_input": "2021-05-17T16:09:24.231320Z",
     "iopub.status.busy": "2021-05-17T16:09:24.230494Z",
     "iopub.status.idle": "2021-05-17T16:09:25.256904Z",
     "shell.execute_reply": "2021-05-17T16:09:25.256248Z"
    },
    "papermill": {
     "duration": 1.068487,
     "end_time": "2021-05-17T16:09:25.257085",
     "exception": false,
     "start_time": "2021-05-17T16:09:24.188598",
     "status": "completed"
    },
    "tags": []
   },
   "outputs": [
    {
     "name": "stdout",
     "output_type": "stream",
     "text": [
      "Setup Complete\n"
     ]
    }
   ],
   "source": [
    "import pandas as pd\n",
    "pd.plotting.register_matplotlib_converters()\n",
    "import matplotlib.pyplot as plt\n",
    "%matplotlib inline\n",
    "import seaborn as sns\n",
    "# for min_max scaling\n",
    "from mlxtend.preprocessing import minmax_scaling\n",
    "\n",
    "print(\"Setup Complete\")"
   ]
  },
  {
   "cell_type": "markdown",
   "id": "economic-frame",
   "metadata": {
    "papermill": {
     "duration": 0.039043,
     "end_time": "2021-05-17T16:09:25.336619",
     "exception": false,
     "start_time": "2021-05-17T16:09:25.297576",
     "status": "completed"
    },
    "tags": []
   },
   "source": [
    "<h3 class=\"card-title\">Audience vs Critics Ratings over time</h3>"
   ]
  },
  {
   "cell_type": "markdown",
   "id": "surrounded-organ",
   "metadata": {
    "papermill": {
     "duration": 0.039007,
     "end_time": "2021-05-17T16:09:25.415186",
     "exception": false,
     "start_time": "2021-05-17T16:09:25.376179",
     "status": "completed"
    },
    "tags": []
   },
   "source": [
    "<font size=4>Next, to produce visually clean graphs, we group the movie year release columns by the year the movie was released, taking the average of each groupings</font><br/>"
   ]
  },
  {
   "cell_type": "code",
   "execution_count": 16,
   "id": "disturbed-essence",
   "metadata": {
    "execution": {
     "iopub.execute_input": "2021-05-17T16:09:25.524999Z",
     "iopub.status.busy": "2021-05-17T16:09:25.524274Z",
     "iopub.status.idle": "2021-05-17T16:09:25.571559Z",
     "shell.execute_reply": "2021-05-17T16:09:25.572290Z"
    },
    "papermill": {
     "duration": 0.1076,
     "end_time": "2021-05-17T16:09:25.572555",
     "exception": false,
     "start_time": "2021-05-17T16:09:25.464955",
     "status": "completed"
    },
    "tags": []
   },
   "outputs": [
    {
     "data": {
      "text/html": [
       "<div>\n",
       "<style scoped>\n",
       "    .dataframe tbody tr th:only-of-type {\n",
       "        vertical-align: middle;\n",
       "    }\n",
       "\n",
       "    .dataframe tbody tr th {\n",
       "        vertical-align: top;\n",
       "    }\n",
       "\n",
       "    .dataframe thead th {\n",
       "        text-align: right;\n",
       "    }\n",
       "</style>\n",
       "<table border=\"1\" class=\"dataframe\">\n",
       "  <thead>\n",
       "    <tr style=\"text-align: right;\">\n",
       "      <th></th>\n",
       "      <th>content_rating</th>\n",
       "      <th>critics_count</th>\n",
       "      <th>tomatometer_rating</th>\n",
       "      <th>critics_status</th>\n",
       "      <th>audience_count</th>\n",
       "      <th>audience_rating</th>\n",
       "      <th>audience_status</th>\n",
       "      <th>tomatometer_top_critics_count</th>\n",
       "      <th>critics_fresh_count</th>\n",
       "      <th>critics_rotten_count</th>\n",
       "      <th>audience_fresh_count</th>\n",
       "      <th>audience_rotten_count</th>\n",
       "    </tr>\n",
       "    <tr>\n",
       "      <th>original_release_date</th>\n",
       "      <th></th>\n",
       "      <th></th>\n",
       "      <th></th>\n",
       "      <th></th>\n",
       "      <th></th>\n",
       "      <th></th>\n",
       "      <th></th>\n",
       "      <th></th>\n",
       "      <th></th>\n",
       "      <th></th>\n",
       "      <th></th>\n",
       "      <th></th>\n",
       "    </tr>\n",
       "  </thead>\n",
       "  <tbody>\n",
       "    <tr>\n",
       "      <th>1915-12-31</th>\n",
       "      <td>4.000000</td>\n",
       "      <td>44.000000</td>\n",
       "      <td>93.000000</td>\n",
       "      <td>2.000000</td>\n",
       "      <td>4804.000000</td>\n",
       "      <td>56.000000</td>\n",
       "      <td>1.000000</td>\n",
       "      <td>7.000000</td>\n",
       "      <td>41.000000</td>\n",
       "      <td>3.000000</td>\n",
       "      <td>2690.240000</td>\n",
       "      <td>2113.760000</td>\n",
       "    </tr>\n",
       "    <tr>\n",
       "      <th>1916-12-31</th>\n",
       "      <td>2.000000</td>\n",
       "      <td>37.000000</td>\n",
       "      <td>97.000000</td>\n",
       "      <td>2.000000</td>\n",
       "      <td>4908.000000</td>\n",
       "      <td>77.000000</td>\n",
       "      <td>2.000000</td>\n",
       "      <td>7.000000</td>\n",
       "      <td>36.000000</td>\n",
       "      <td>1.000000</td>\n",
       "      <td>3779.160000</td>\n",
       "      <td>1128.840000</td>\n",
       "    </tr>\n",
       "    <tr>\n",
       "      <th>1919-12-31</th>\n",
       "      <td>1.000000</td>\n",
       "      <td>22.000000</td>\n",
       "      <td>95.000000</td>\n",
       "      <td>2.000000</td>\n",
       "      <td>3802.000000</td>\n",
       "      <td>71.000000</td>\n",
       "      <td>2.000000</td>\n",
       "      <td>5.000000</td>\n",
       "      <td>21.000000</td>\n",
       "      <td>1.000000</td>\n",
       "      <td>2699.420000</td>\n",
       "      <td>1102.580000</td>\n",
       "    </tr>\n",
       "    <tr>\n",
       "      <th>1920-12-31</th>\n",
       "      <td>1.000000</td>\n",
       "      <td>62.000000</td>\n",
       "      <td>98.000000</td>\n",
       "      <td>2.000000</td>\n",
       "      <td>27748.000000</td>\n",
       "      <td>89.000000</td>\n",
       "      <td>2.000000</td>\n",
       "      <td>14.000000</td>\n",
       "      <td>62.000000</td>\n",
       "      <td>1.000000</td>\n",
       "      <td>24695.720000</td>\n",
       "      <td>3052.280000</td>\n",
       "    </tr>\n",
       "    <tr>\n",
       "      <th>1921-12-31</th>\n",
       "      <td>1.000000</td>\n",
       "      <td>43.000000</td>\n",
       "      <td>100.000000</td>\n",
       "      <td>2.000000</td>\n",
       "      <td>15438.000000</td>\n",
       "      <td>95.000000</td>\n",
       "      <td>2.000000</td>\n",
       "      <td>7.000000</td>\n",
       "      <td>43.000000</td>\n",
       "      <td>0.000000</td>\n",
       "      <td>14666.100000</td>\n",
       "      <td>771.900000</td>\n",
       "    </tr>\n",
       "    <tr>\n",
       "      <th>...</th>\n",
       "      <td>...</td>\n",
       "      <td>...</td>\n",
       "      <td>...</td>\n",
       "      <td>...</td>\n",
       "      <td>...</td>\n",
       "      <td>...</td>\n",
       "      <td>...</td>\n",
       "      <td>...</td>\n",
       "      <td>...</td>\n",
       "      <td>...</td>\n",
       "      <td>...</td>\n",
       "      <td>...</td>\n",
       "    </tr>\n",
       "    <tr>\n",
       "      <th>2016-12-31</th>\n",
       "      <td>4.003472</td>\n",
       "      <td>147.833333</td>\n",
       "      <td>63.003472</td>\n",
       "      <td>1.625000</td>\n",
       "      <td>21237.809028</td>\n",
       "      <td>57.982639</td>\n",
       "      <td>1.475694</td>\n",
       "      <td>32.031250</td>\n",
       "      <td>99.131944</td>\n",
       "      <td>48.826389</td>\n",
       "      <td>13897.471806</td>\n",
       "      <td>7340.337222</td>\n",
       "    </tr>\n",
       "    <tr>\n",
       "      <th>2017-12-31</th>\n",
       "      <td>3.605263</td>\n",
       "      <td>148.157895</td>\n",
       "      <td>64.430921</td>\n",
       "      <td>1.628289</td>\n",
       "      <td>14989.697368</td>\n",
       "      <td>60.332237</td>\n",
       "      <td>1.549342</td>\n",
       "      <td>29.569079</td>\n",
       "      <td>101.947368</td>\n",
       "      <td>46.282895</td>\n",
       "      <td>10005.675197</td>\n",
       "      <td>4984.022171</td>\n",
       "    </tr>\n",
       "    <tr>\n",
       "      <th>2018-12-31</th>\n",
       "      <td>3.764179</td>\n",
       "      <td>141.617910</td>\n",
       "      <td>64.844776</td>\n",
       "      <td>1.623881</td>\n",
       "      <td>3846.131343</td>\n",
       "      <td>59.764179</td>\n",
       "      <td>1.522388</td>\n",
       "      <td>26.059701</td>\n",
       "      <td>100.029851</td>\n",
       "      <td>41.635821</td>\n",
       "      <td>2647.529433</td>\n",
       "      <td>1198.601910</td>\n",
       "    </tr>\n",
       "    <tr>\n",
       "      <th>2019-12-31</th>\n",
       "      <td>3.521053</td>\n",
       "      <td>100.426316</td>\n",
       "      <td>63.894737</td>\n",
       "      <td>1.610526</td>\n",
       "      <td>2739.842105</td>\n",
       "      <td>58.373684</td>\n",
       "      <td>1.473684</td>\n",
       "      <td>18.657895</td>\n",
       "      <td>67.357895</td>\n",
       "      <td>33.084211</td>\n",
       "      <td>1944.591368</td>\n",
       "      <td>795.250737</td>\n",
       "    </tr>\n",
       "    <tr>\n",
       "      <th>2020-12-31</th>\n",
       "      <td>2.826531</td>\n",
       "      <td>77.204082</td>\n",
       "      <td>70.448980</td>\n",
       "      <td>1.714286</td>\n",
       "      <td>1731.214286</td>\n",
       "      <td>58.673469</td>\n",
       "      <td>1.551020</td>\n",
       "      <td>13.785714</td>\n",
       "      <td>56.428571</td>\n",
       "      <td>20.795918</td>\n",
       "      <td>1492.654082</td>\n",
       "      <td>238.560204</td>\n",
       "    </tr>\n",
       "  </tbody>\n",
       "</table>\n",
       "<p>103 rows × 12 columns</p>\n",
       "</div>"
      ],
      "text/plain": [
       "                       content_rating  critics_count  tomatometer_rating  \\\n",
       "original_release_date                                                      \n",
       "1915-12-31                   4.000000      44.000000           93.000000   \n",
       "1916-12-31                   2.000000      37.000000           97.000000   \n",
       "1919-12-31                   1.000000      22.000000           95.000000   \n",
       "1920-12-31                   1.000000      62.000000           98.000000   \n",
       "1921-12-31                   1.000000      43.000000          100.000000   \n",
       "...                               ...            ...                 ...   \n",
       "2016-12-31                   4.003472     147.833333           63.003472   \n",
       "2017-12-31                   3.605263     148.157895           64.430921   \n",
       "2018-12-31                   3.764179     141.617910           64.844776   \n",
       "2019-12-31                   3.521053     100.426316           63.894737   \n",
       "2020-12-31                   2.826531      77.204082           70.448980   \n",
       "\n",
       "                       critics_status  audience_count  audience_rating  \\\n",
       "original_release_date                                                    \n",
       "1915-12-31                   2.000000     4804.000000        56.000000   \n",
       "1916-12-31                   2.000000     4908.000000        77.000000   \n",
       "1919-12-31                   2.000000     3802.000000        71.000000   \n",
       "1920-12-31                   2.000000    27748.000000        89.000000   \n",
       "1921-12-31                   2.000000    15438.000000        95.000000   \n",
       "...                               ...             ...              ...   \n",
       "2016-12-31                   1.625000    21237.809028        57.982639   \n",
       "2017-12-31                   1.628289    14989.697368        60.332237   \n",
       "2018-12-31                   1.623881     3846.131343        59.764179   \n",
       "2019-12-31                   1.610526     2739.842105        58.373684   \n",
       "2020-12-31                   1.714286     1731.214286        58.673469   \n",
       "\n",
       "                       audience_status  tomatometer_top_critics_count  \\\n",
       "original_release_date                                                   \n",
       "1915-12-31                    1.000000                       7.000000   \n",
       "1916-12-31                    2.000000                       7.000000   \n",
       "1919-12-31                    2.000000                       5.000000   \n",
       "1920-12-31                    2.000000                      14.000000   \n",
       "1921-12-31                    2.000000                       7.000000   \n",
       "...                                ...                            ...   \n",
       "2016-12-31                    1.475694                      32.031250   \n",
       "2017-12-31                    1.549342                      29.569079   \n",
       "2018-12-31                    1.522388                      26.059701   \n",
       "2019-12-31                    1.473684                      18.657895   \n",
       "2020-12-31                    1.551020                      13.785714   \n",
       "\n",
       "                       critics_fresh_count  critics_rotten_count  \\\n",
       "original_release_date                                              \n",
       "1915-12-31                       41.000000              3.000000   \n",
       "1916-12-31                       36.000000              1.000000   \n",
       "1919-12-31                       21.000000              1.000000   \n",
       "1920-12-31                       62.000000              1.000000   \n",
       "1921-12-31                       43.000000              0.000000   \n",
       "...                                    ...                   ...   \n",
       "2016-12-31                       99.131944             48.826389   \n",
       "2017-12-31                      101.947368             46.282895   \n",
       "2018-12-31                      100.029851             41.635821   \n",
       "2019-12-31                       67.357895             33.084211   \n",
       "2020-12-31                       56.428571             20.795918   \n",
       "\n",
       "                       audience_fresh_count  audience_rotten_count  \n",
       "original_release_date                                               \n",
       "1915-12-31                      2690.240000            2113.760000  \n",
       "1916-12-31                      3779.160000            1128.840000  \n",
       "1919-12-31                      2699.420000            1102.580000  \n",
       "1920-12-31                     24695.720000            3052.280000  \n",
       "1921-12-31                     14666.100000             771.900000  \n",
       "...                                     ...                    ...  \n",
       "2016-12-31                     13897.471806            7340.337222  \n",
       "2017-12-31                     10005.675197            4984.022171  \n",
       "2018-12-31                      2647.529433            1198.601910  \n",
       "2019-12-31                      1944.591368             795.250737  \n",
       "2020-12-31                      1492.654082             238.560204  \n",
       "\n",
       "[103 rows x 12 columns]"
      ]
     },
     "execution_count": 16,
     "metadata": {},
     "output_type": "execute_result"
    }
   ],
   "source": [
    "# group by year end frequency to reduce noise in the data \n",
    "dataSet = dataSet.groupby([pd.Grouper(key='original_release_date', freq='Y')]).mean()\n",
    "# drop null rows that resulted from the grouping\n",
    "dataSet = dataSet.dropna()\n",
    "dataSet"
   ]
  },
  {
   "cell_type": "code",
   "execution_count": 17,
   "id": "sunset-admission",
   "metadata": {
    "execution": {
     "iopub.execute_input": "2021-05-17T16:09:25.673305Z",
     "iopub.status.busy": "2021-05-17T16:09:25.672718Z",
     "iopub.status.idle": "2021-05-17T16:09:25.966407Z",
     "shell.execute_reply": "2021-05-17T16:09:25.966860Z"
    },
    "papermill": {
     "duration": 0.340097,
     "end_time": "2021-05-17T16:09:25.967018",
     "exception": false,
     "start_time": "2021-05-17T16:09:25.626921",
     "status": "completed"
    },
    "tags": []
   },
   "outputs": [
    {
     "data": {
      "text/plain": [
       "Text(0, 0.5, 'Ratings')"
      ]
     },
     "execution_count": 17,
     "metadata": {},
     "output_type": "execute_result"
    },
    {
     "data": {
      "image/png": "[encoded data removed]",
      "text/plain": [
       "<Figure size 1008x432 with 1 Axes>"
      ]
     },
     "metadata": {
      "needs_background": "light"
     },
     "output_type": "display_data"
    }
   ],
   "source": [
    "\n",
    "# set the plot figure size \n",
    "plt.figure(figsize=(14,6))\n",
    "\n",
    "plt.title(\"Rotten Tomatoes Audience vs Critics ratings over time\")\n",
    "\n",
    "# Line chart showing audience vs critics ratings over time \n",
    "sns.lineplot(data=dataSet.tomatometer_rating, label=\"Critics Ratings\")\n",
    "sns.lineplot(data=dataSet.audience_rating, label=\"Audience Ratings\")\n",
    "plt.xlabel(\"Original Release date\")\n",
    "plt.ylabel(\"Ratings\")\n"
   ]
  },
  {
   "cell_type": "markdown",
   "id": "complex-vaccine",
   "metadata": {
    "papermill": {
     "duration": 0.042515,
     "end_time": "2021-05-17T16:09:26.054286",
     "exception": false,
     "start_time": "2021-05-17T16:09:26.011771",
     "status": "completed"
    },
    "tags": []
   },
   "source": [
    "<font size=4>Hmmm this is very interesting. During research, I found this image</font><br/>\n",
    "## [Source= The Ringer: rotten-tomatoes-effective-on-box-office ](https://www.theringer.com/movies/2020/9/4/21422568/rotten-tomatoes-effective-on-box-office)\n",
    "<img src=\"https://cdn.vox-cdn.com/uploads/chorus_asset/file/21857252/image6.png\" alt=\"drawing\" width=\"700\"/><br/>\n",
    "<font size=4>It goes to show how lies can occur with statistics. In this case, it is evident that audience satisfaction of movies have decreased over time, but the research source makes it look like satisfaction has increased over time. Possibly to make Rotten tomatoe's critic system look effective. The decline in my graph may be attributed to controversy,political and cultural influences, but that is analysis for another project.</font><br/>"
   ]
  },
  {
   "cell_type": "markdown",
   "id": "empty-listing",
   "metadata": {
    "papermill": {
     "duration": 0.04285,
     "end_time": "2021-05-17T16:09:26.140922",
     "exception": false,
     "start_time": "2021-05-17T16:09:26.098072",
     "status": "completed"
    },
    "tags": []
   },
   "source": [
    "<font size=4>Next, we plot a regression line between audience vs critics scores</font><br/>"
   ]
  },
  {
   "cell_type": "code",
   "execution_count": 18,
   "id": "comparative-sellers",
   "metadata": {
    "execution": {
     "iopub.execute_input": "2021-05-17T16:09:26.253732Z",
     "iopub.status.busy": "2021-05-17T16:09:26.251011Z",
     "iopub.status.idle": "2021-05-17T16:09:26.554947Z",
     "shell.execute_reply": "2021-05-17T16:09:26.554529Z"
    },
    "papermill": {
     "duration": 0.368709,
     "end_time": "2021-05-17T16:09:26.555069",
     "exception": false,
     "start_time": "2021-05-17T16:09:26.186360",
     "status": "completed"
    },
    "tags": []
   },
   "outputs": [
    {
     "data": {
      "text/plain": [
       "<seaborn.axisgrid.FacetGrid at 0x7f800c08f150>"
      ]
     },
     "execution_count": 18,
     "metadata": {},
     "output_type": "execute_result"
    },
    {
     "data": {
      "image/png": "[encoded data removed]",
      "text/plain": [
       "<Figure size 360x360 with 1 Axes>"
      ]
     },
     "metadata": {
      "needs_background": "light"
     },
     "output_type": "display_data"
    }
   ],
   "source": [
    "sns.lmplot(data=dataSet, x='tomatometer_rating', y='audience_rating')"
   ]
  },
  {
   "cell_type": "markdown",
   "id": "competitive-revelation",
   "metadata": {
    "papermill": {
     "duration": 0.043443,
     "end_time": "2021-05-17T16:09:26.643859",
     "exception": false,
     "start_time": "2021-05-17T16:09:26.600416",
     "status": "completed"
    },
    "tags": []
   },
   "source": [
    "<font size=4>It looks convincingly perfect. There appears to be a near perfect linear relationship between the two variables</font><br/>"
   ]
  },
  {
   "cell_type": "markdown",
   "id": "analyzed-credit",
   "metadata": {
    "papermill": {
     "duration": 0.043612,
     "end_time": "2021-05-17T16:09:26.732122",
     "exception": false,
     "start_time": "2021-05-17T16:09:26.688510",
     "status": "completed"
    },
    "tags": []
   },
   "source": [
    "<h3 class=\"card-title\">Audience vs critics count over Time</h3>"
   ]
  },
  {
   "cell_type": "markdown",
   "id": "regulated-meditation",
   "metadata": {
    "papermill": {
     "duration": 0.043829,
     "end_time": "2021-05-17T16:09:26.820979",
     "exception": false,
     "start_time": "2021-05-17T16:09:26.777150",
     "status": "completed"
    },
    "tags": []
   },
   "source": [
    "<font size=4>although we see a relationship between audience and critics scores, it could be that the observation is influenced by the critics vs audience ratings count. Meaning an increase/decrease in audience count over time may offset the ratings, making it look like more audience ratings correlate with critics.. Hence, we repeat the proccedure above, but with the ratings count to see if they make a better predictior </font>\n",
    "<font size=4>But first, we scale the data, to get a good visualization, since the audience count values are disproportionally higher than the critics</font>"
   ]
  },
  {
   "cell_type": "code",
   "execution_count": 19,
   "id": "controlling-trauma",
   "metadata": {
    "execution": {
     "iopub.execute_input": "2021-05-17T16:09:26.928143Z",
     "iopub.status.busy": "2021-05-17T16:09:26.927580Z",
     "iopub.status.idle": "2021-05-17T16:09:26.931878Z",
     "shell.execute_reply": "2021-05-17T16:09:26.931440Z"
    },
    "papermill": {
     "duration": 0.067068,
     "end_time": "2021-05-17T16:09:26.932008",
     "exception": false,
     "start_time": "2021-05-17T16:09:26.864940",
     "status": "completed"
    },
    "tags": []
   },
   "outputs": [
    {
     "data": {
      "text/html": [
       "<div>\n",
       "<style scoped>\n",
       "    .dataframe tbody tr th:only-of-type {\n",
       "        vertical-align: middle;\n",
       "    }\n",
       "\n",
       "    .dataframe tbody tr th {\n",
       "        vertical-align: top;\n",
       "    }\n",
       "\n",
       "    .dataframe thead th {\n",
       "        text-align: right;\n",
       "    }\n",
       "</style>\n",
       "<table border=\"1\" class=\"dataframe\">\n",
       "  <thead>\n",
       "    <tr style=\"text-align: right;\">\n",
       "      <th></th>\n",
       "      <th>critics_count</th>\n",
       "      <th>audience_count</th>\n",
       "    </tr>\n",
       "    <tr>\n",
       "      <th>original_release_date</th>\n",
       "      <th></th>\n",
       "      <th></th>\n",
       "    </tr>\n",
       "  </thead>\n",
       "  <tbody>\n",
       "    <tr>\n",
       "      <th>1915-12-31</th>\n",
       "      <td>0.174385</td>\n",
       "      <td>0.002034</td>\n",
       "    </tr>\n",
       "    <tr>\n",
       "      <th>1916-12-31</th>\n",
       "      <td>0.118899</td>\n",
       "      <td>0.002103</td>\n",
       "    </tr>\n",
       "    <tr>\n",
       "      <th>1919-12-31</th>\n",
       "      <td>0.000000</td>\n",
       "      <td>0.001371</td>\n",
       "    </tr>\n",
       "    <tr>\n",
       "      <th>1920-12-31</th>\n",
       "      <td>0.317063</td>\n",
       "      <td>0.017223</td>\n",
       "    </tr>\n",
       "    <tr>\n",
       "      <th>1921-12-31</th>\n",
       "      <td>0.166458</td>\n",
       "      <td>0.009074</td>\n",
       "    </tr>\n",
       "    <tr>\n",
       "      <th>...</th>\n",
       "      <td>...</td>\n",
       "      <td>...</td>\n",
       "    </tr>\n",
       "    <tr>\n",
       "      <th>2016-12-31</th>\n",
       "      <td>0.997427</td>\n",
       "      <td>0.012914</td>\n",
       "    </tr>\n",
       "    <tr>\n",
       "      <th>2017-12-31</th>\n",
       "      <td>1.000000</td>\n",
       "      <td>0.008777</td>\n",
       "    </tr>\n",
       "    <tr>\n",
       "      <th>2018-12-31</th>\n",
       "      <td>0.948160</td>\n",
       "      <td>0.001400</td>\n",
       "    </tr>\n",
       "    <tr>\n",
       "      <th>2019-12-31</th>\n",
       "      <td>0.621652</td>\n",
       "      <td>0.000668</td>\n",
       "    </tr>\n",
       "    <tr>\n",
       "      <th>2020-12-31</th>\n",
       "      <td>0.437579</td>\n",
       "      <td>0.000000</td>\n",
       "    </tr>\n",
       "  </tbody>\n",
       "</table>\n",
       "<p>103 rows × 2 columns</p>\n",
       "</div>"
      ],
      "text/plain": [
       "                       critics_count  audience_count\n",
       "original_release_date                               \n",
       "1915-12-31                  0.174385        0.002034\n",
       "1916-12-31                  0.118899        0.002103\n",
       "1919-12-31                  0.000000        0.001371\n",
       "1920-12-31                  0.317063        0.017223\n",
       "1921-12-31                  0.166458        0.009074\n",
       "...                              ...             ...\n",
       "2016-12-31                  0.997427        0.012914\n",
       "2017-12-31                  1.000000        0.008777\n",
       "2018-12-31                  0.948160        0.001400\n",
       "2019-12-31                  0.621652        0.000668\n",
       "2020-12-31                  0.437579        0.000000\n",
       "\n",
       "[103 rows x 2 columns]"
      ]
     },
     "execution_count": 19,
     "metadata": {},
     "output_type": "execute_result"
    }
   ],
   "source": [
    "# mix-max scale the data between 0 and 1\n",
    "scaledData = minmax_scaling(dataSet, columns=[\"critics_count\",\"audience_count\"])\n",
    "scaledData"
   ]
  },
  {
   "cell_type": "code",
   "execution_count": 20,
   "id": "aboriginal-bronze",
   "metadata": {
    "execution": {
     "iopub.execute_input": "2021-05-17T16:09:27.039629Z",
     "iopub.status.busy": "2021-05-17T16:09:27.032118Z",
     "iopub.status.idle": "2021-05-17T16:09:27.245933Z",
     "shell.execute_reply": "2021-05-17T16:09:27.246342Z"
    },
    "papermill": {
     "duration": 0.26992,
     "end_time": "2021-05-17T16:09:27.246519",
     "exception": false,
     "start_time": "2021-05-17T16:09:26.976599",
     "status": "completed"
    },
    "tags": []
   },
   "outputs": [
    {
     "data": {
      "text/plain": [
       "Text(0, 0.5, 'Ratings Count')"
      ]
     },
     "execution_count": 20,
     "metadata": {},
     "output_type": "execute_result"
    },
    {
     "data": {
      "image/png": "[encoded data removed]",
      "text/plain": [
       "<Figure size 1008x432 with 1 Axes>"
      ]
     },
     "metadata": {
      "needs_background": "light"
     },
     "output_type": "display_data"
    }
   ],
   "source": [
    "# set the plot figure size \n",
    "plt.figure(figsize=(14,6))\n",
    "\n",
    "plt.title(\"Rotten Tomatoes Audience vs Critics ratings count over time\")\n",
    "\n",
    "# Line chart showing audience vs critics ratings over time \n",
    "sns.lineplot(data=scaledData.critics_count, label=\"Critics Count\")\n",
    "sns.lineplot(data=scaledData.audience_count, label=\"Audience Counts\")\n",
    "plt.xlabel(\"Original Release date\")\n",
    "plt.ylabel(\"Ratings Count\")\n"
   ]
  },
  {
   "cell_type": "markdown",
   "id": "electrical-damages",
   "metadata": {
    "papermill": {
     "duration": 0.04608,
     "end_time": "2021-05-17T16:09:27.340063",
     "exception": false,
     "start_time": "2021-05-17T16:09:27.293983",
     "status": "completed"
    },
    "tags": []
   },
   "source": [
    "<font size=4>Amazing.. In recent years, (post year 2000) there has been a substantial rise in critics count and a very steep drop in audience count.</font><br/><br/>\n",
    "<font size=4>This may be evidence of rumors that rotten tomato removes user ratings, does not consider them, or just evidence that less people trust/use the service compared to before.</font><br/><br/>\n",
    "<font size=4>But the good news is, the trend still apears. In the first graph, we saw a positive correlation  until post year 2000, after which it turned negative. This graph explains the change (admittedly with a few spikes in audience count), as it could be attributed to increasing critics submitting ratings vs decreasing audience submitting ratings..</font><br/><br/>\n"
   ]
  },
  {
   "cell_type": "code",
   "execution_count": 21,
   "id": "headed-spectrum",
   "metadata": {
    "execution": {
     "iopub.execute_input": "2021-05-17T16:09:27.454543Z",
     "iopub.status.busy": "2021-05-17T16:09:27.450165Z",
     "iopub.status.idle": "2021-05-17T16:09:27.754586Z",
     "shell.execute_reply": "2021-05-17T16:09:27.753996Z"
    },
    "papermill": {
     "duration": 0.368144,
     "end_time": "2021-05-17T16:09:27.754716",
     "exception": false,
     "start_time": "2021-05-17T16:09:27.386572",
     "status": "completed"
    },
    "tags": []
   },
   "outputs": [
    {
     "data": {
      "text/plain": [
       "<seaborn.axisgrid.FacetGrid at 0x7f800a6cb2d0>"
      ]
     },
     "execution_count": 21,
     "metadata": {},
     "output_type": "execute_result"
    },
    {
     "data": {
      "image/png": "[encoded data removed]",
      "text/plain": [
       "<Figure size 360x360 with 1 Axes>"
      ]
     },
     "metadata": {
      "needs_background": "light"
     },
     "output_type": "display_data"
    }
   ],
   "source": [
    "sns.lmplot(data=scaledData, x='critics_count', y='audience_count')"
   ]
  },
  {
   "cell_type": "markdown",
   "id": "placed-soldier",
   "metadata": {
    "papermill": {
     "duration": 0.052026,
     "end_time": "2021-05-17T16:09:27.856184",
     "exception": false,
     "start_time": "2021-05-17T16:09:27.804158",
     "status": "completed"
    },
    "tags": []
   },
   "source": [
    "<font size=4>Observing the best fit line, the relationship does not appear as strong as that of the ratings. So we have a strong relationship between average ratings, but a weak relationship between the ratings count. I am forshadowing crtics ratings as the best predictor.</font><br/><br/>\n",
    "\n"
   ]
  },
  {
   "cell_type": "markdown",
   "id": "experienced-exhibit",
   "metadata": {
    "papermill": {
     "duration": 0.047626,
     "end_time": "2021-05-17T16:09:27.951985",
     "exception": false,
     "start_time": "2021-05-17T16:09:27.904359",
     "status": "completed"
    },
    "tags": []
   },
   "source": [
    "<h3 class=\"card-title\">Content  vs critics ratings over Time</h3>"
   ]
  },
  {
   "cell_type": "markdown",
   "id": "nonprofit-response",
   "metadata": {
    "papermill": {
     "duration": 0.048491,
     "end_time": "2021-05-17T16:09:28.049172",
     "exception": false,
     "start_time": "2021-05-17T16:09:28.000681",
     "status": "completed"
    },
    "tags": []
   },
   "source": [
    "<font size=4>Now we look at content ratings to determine if its a viable predictor</font><br/><br/>\n",
    "\n"
   ]
  },
  {
   "cell_type": "code",
   "execution_count": 22,
   "id": "cross-playback",
   "metadata": {
    "execution": {
     "iopub.execute_input": "2021-05-17T16:09:28.169674Z",
     "iopub.status.busy": "2021-05-17T16:09:28.168726Z",
     "iopub.status.idle": "2021-05-17T16:09:28.172630Z",
     "shell.execute_reply": "2021-05-17T16:09:28.172999Z"
    },
    "papermill": {
     "duration": 0.072707,
     "end_time": "2021-05-17T16:09:28.173160",
     "exception": false,
     "start_time": "2021-05-17T16:09:28.100453",
     "status": "completed"
    },
    "tags": []
   },
   "outputs": [
    {
     "data": {
      "text/html": [
       "<div>\n",
       "<style scoped>\n",
       "    .dataframe tbody tr th:only-of-type {\n",
       "        vertical-align: middle;\n",
       "    }\n",
       "\n",
       "    .dataframe tbody tr th {\n",
       "        vertical-align: top;\n",
       "    }\n",
       "\n",
       "    .dataframe thead th {\n",
       "        text-align: right;\n",
       "    }\n",
       "</style>\n",
       "<table border=\"1\" class=\"dataframe\">\n",
       "  <thead>\n",
       "    <tr style=\"text-align: right;\">\n",
       "      <th></th>\n",
       "      <th>content_rating</th>\n",
       "      <th>audience_rating</th>\n",
       "    </tr>\n",
       "    <tr>\n",
       "      <th>original_release_date</th>\n",
       "      <th></th>\n",
       "      <th></th>\n",
       "    </tr>\n",
       "  </thead>\n",
       "  <tbody>\n",
       "    <tr>\n",
       "      <th>1915-12-31</th>\n",
       "      <td>0.812500</td>\n",
       "      <td>0.037037</td>\n",
       "    </tr>\n",
       "    <tr>\n",
       "      <th>1916-12-31</th>\n",
       "      <td>0.270833</td>\n",
       "      <td>0.555556</td>\n",
       "    </tr>\n",
       "    <tr>\n",
       "      <th>1919-12-31</th>\n",
       "      <td>0.000000</td>\n",
       "      <td>0.407407</td>\n",
       "    </tr>\n",
       "    <tr>\n",
       "      <th>1920-12-31</th>\n",
       "      <td>0.000000</td>\n",
       "      <td>0.851852</td>\n",
       "    </tr>\n",
       "    <tr>\n",
       "      <th>1921-12-31</th>\n",
       "      <td>0.000000</td>\n",
       "      <td>1.000000</td>\n",
       "    </tr>\n",
       "    <tr>\n",
       "      <th>...</th>\n",
       "      <td>...</td>\n",
       "      <td>...</td>\n",
       "    </tr>\n",
       "    <tr>\n",
       "      <th>2016-12-31</th>\n",
       "      <td>0.813440</td>\n",
       "      <td>0.085991</td>\n",
       "    </tr>\n",
       "    <tr>\n",
       "      <th>2017-12-31</th>\n",
       "      <td>0.705592</td>\n",
       "      <td>0.144006</td>\n",
       "    </tr>\n",
       "    <tr>\n",
       "      <th>2018-12-31</th>\n",
       "      <td>0.748632</td>\n",
       "      <td>0.129980</td>\n",
       "    </tr>\n",
       "    <tr>\n",
       "      <th>2019-12-31</th>\n",
       "      <td>0.682785</td>\n",
       "      <td>0.095647</td>\n",
       "    </tr>\n",
       "    <tr>\n",
       "      <th>2020-12-31</th>\n",
       "      <td>0.494685</td>\n",
       "      <td>0.103049</td>\n",
       "    </tr>\n",
       "  </tbody>\n",
       "</table>\n",
       "<p>103 rows × 2 columns</p>\n",
       "</div>"
      ],
      "text/plain": [
       "                       content_rating  audience_rating\n",
       "original_release_date                                 \n",
       "1915-12-31                   0.812500         0.037037\n",
       "1916-12-31                   0.270833         0.555556\n",
       "1919-12-31                   0.000000         0.407407\n",
       "1920-12-31                   0.000000         0.851852\n",
       "1921-12-31                   0.000000         1.000000\n",
       "...                               ...              ...\n",
       "2016-12-31                   0.813440         0.085991\n",
       "2017-12-31                   0.705592         0.144006\n",
       "2018-12-31                   0.748632         0.129980\n",
       "2019-12-31                   0.682785         0.095647\n",
       "2020-12-31                   0.494685         0.103049\n",
       "\n",
       "[103 rows x 2 columns]"
      ]
     },
     "execution_count": 22,
     "metadata": {},
     "output_type": "execute_result"
    }
   ],
   "source": [
    "# mix-max scale the data between 0 and 1\n",
    "scaledData = minmax_scaling(dataSet, columns=[\"content_rating\",\"audience_rating\"])\n",
    "scaledData"
   ]
  },
  {
   "cell_type": "code",
   "execution_count": 23,
   "id": "large-membrane",
   "metadata": {
    "execution": {
     "iopub.execute_input": "2021-05-17T16:09:28.313925Z",
     "iopub.status.busy": "2021-05-17T16:09:28.298087Z",
     "iopub.status.idle": "2021-05-17T16:09:28.503635Z",
     "shell.execute_reply": "2021-05-17T16:09:28.503156Z"
    },
    "papermill": {
     "duration": 0.282101,
     "end_time": "2021-05-17T16:09:28.503763",
     "exception": false,
     "start_time": "2021-05-17T16:09:28.221662",
     "status": "completed"
    },
    "tags": []
   },
   "outputs": [
    {
     "data": {
      "text/plain": [
       "Text(0, 0.5, 'Ratings Count')"
      ]
     },
     "execution_count": 23,
     "metadata": {},
     "output_type": "execute_result"
    },
    {
     "data": {
      "image/png": "[encoded data removed]",
      "text/plain": [
       "<Figure size 1008x432 with 1 Axes>"
      ]
     },
     "metadata": {
      "needs_background": "light"
     },
     "output_type": "display_data"
    }
   ],
   "source": [
    "# set the plot figure size \n",
    "plt.figure(figsize=(14,6))\n",
    "\n",
    "plt.title(\"Rotten Tomato: content vs audience ratings count over time\")\n",
    "\n",
    "# Line chart showing audience vs critics ratings over time \n",
    "sns.lineplot(data=scaledData.content_rating, label=\"content rating\")\n",
    "sns.lineplot(data=scaledData.audience_rating, label=\"Audience rating\")\n",
    "plt.xlabel(\"Original Release date\")\n",
    "plt.ylabel(\"Ratings Count\")\n"
   ]
  },
  {
   "cell_type": "markdown",
   "id": "exact-public",
   "metadata": {
    "papermill": {
     "duration": 0.051297,
     "end_time": "2021-05-17T16:09:28.606477",
     "exception": false,
     "start_time": "2021-05-17T16:09:28.555180",
     "status": "completed"
    },
    "tags": []
   },
   "source": [
    "<font size=4>As we can see there appears to be a positive correlation pre 2000 and a negative/trend reversal post 1970 (it looks like audiences became less satisfied with the prevalence of mature content/high ratings count over the years). Content ratings feels like a good predictor. The trend is there, but not as strong as that for the critics ratings.</font><br/><br/>\n",
    "\n"
   ]
  },
  {
   "cell_type": "code",
   "execution_count": 24,
   "id": "bigger-facial",
   "metadata": {
    "execution": {
     "iopub.execute_input": "2021-05-17T16:09:28.721558Z",
     "iopub.status.busy": "2021-05-17T16:09:28.717519Z",
     "iopub.status.idle": "2021-05-17T16:09:29.027902Z",
     "shell.execute_reply": "2021-05-17T16:09:29.027263Z"
    },
    "papermill": {
     "duration": 0.370279,
     "end_time": "2021-05-17T16:09:29.028038",
     "exception": false,
     "start_time": "2021-05-17T16:09:28.657759",
     "status": "completed"
    },
    "tags": []
   },
   "outputs": [
    {
     "data": {
      "text/plain": [
       "<seaborn.axisgrid.FacetGrid at 0x7f800a56c450>"
      ]
     },
     "execution_count": 24,
     "metadata": {},
     "output_type": "execute_result"
    },
    {
     "data": {
      "image/png": "[encoded data removed]",
      "text/plain": [
       "<Figure size 360x360 with 1 Axes>"
      ]
     },
     "metadata": {
      "needs_background": "light"
     },
     "output_type": "display_data"
    }
   ],
   "source": [
    "sns.lmplot(data=scaledData, x='content_rating', y='audience_rating')"
   ]
  },
  {
   "cell_type": "markdown",
   "id": "resistant-object",
   "metadata": {
    "papermill": {
     "duration": 0.055889,
     "end_time": "2021-05-17T16:09:29.137673",
     "exception": false,
     "start_time": "2021-05-17T16:09:29.081784",
     "status": "completed"
    },
    "tags": []
   },
   "source": [
    "<font size=4>The appears to be a negative correlation between content rating and audience ratings. (as mentioned before, the higher the content rating, the lower the audience sentiment). But the relationship here is stronger than that of the critics ratings count, but weaker than that of critics ratings</font><br/><br/>\n",
    "\n"
   ]
  },
  {
   "cell_type": "markdown",
   "id": "latter-number",
   "metadata": {
    "papermill": {
     "duration": 0.052942,
     "end_time": "2021-05-17T16:09:29.243761",
     "exception": false,
     "start_time": "2021-05-17T16:09:29.190819",
     "status": "completed"
    },
    "tags": []
   },
   "source": [
    "\n",
    "<div class=\"text-center text-primary card-title\">\n",
    "    <hr/>\n",
    "    <h1 id=\"introduction\">5. Hypothesis</h1>\n",
    "    <hr/>\n",
    "</div>"
   ]
  },
  {
   "cell_type": "markdown",
   "id": "mature-yesterday",
   "metadata": {
    "papermill": {
     "duration": 0.051771,
     "end_time": "2021-05-17T16:09:29.347887",
     "exception": false,
     "start_time": "2021-05-17T16:09:29.296116",
     "status": "completed"
    },
    "tags": []
   },
   "source": [
    "<h2 class=\"card-title\">Prediction and null hypothesis</h2>\n",
    "<font size=4> Going with the observations from the exploratory analysis section, my hypothesis is: audience sentiment (ratings) towards movies can be predicted more accurately by critics ratings</font><br/><br/>\n",
    "<font size=4> The Null hypothesis in this case would be that critics ratings do not predict audience sentitment.</font><br/>"
   ]
  },
  {
   "cell_type": "markdown",
   "id": "floating-topic",
   "metadata": {
    "papermill": {
     "duration": 0.051589,
     "end_time": "2021-05-17T16:09:29.451496",
     "exception": false,
     "start_time": "2021-05-17T16:09:29.399907",
     "status": "completed"
    },
    "tags": []
   },
   "source": [
    "\n",
    "<div class=\"text-center text-primary card-title\">\n",
    "    <hr/>\n",
    "    <h1 id=\"introduction\">6. Data Modeling</h1>\n",
    "    <hr/>\n",
    "</div>"
   ]
  },
  {
   "cell_type": "markdown",
   "id": "consistent-updating",
   "metadata": {
    "papermill": {
     "duration": 0.051559,
     "end_time": "2021-05-17T16:09:29.554913",
     "exception": false,
     "start_time": "2021-05-17T16:09:29.503354",
     "status": "completed"
    },
    "tags": []
   },
   "source": [
    "<h2 class=\"card-title\">Machine Learning and Data Modeling: Descision Tree Regression</h2>\n",
    "<font size=4>  We would use a Decision Tree Regression model to run predictions on our data </font><br/>"
   ]
  },
  {
   "cell_type": "markdown",
   "id": "indie-translation",
   "metadata": {
    "papermill": {
     "duration": 0.051162,
     "end_time": "2021-05-17T16:09:29.659129",
     "exception": false,
     "start_time": "2021-05-17T16:09:29.607967",
     "status": "completed"
    },
    "tags": []
   },
   "source": [
    "<h2 class=\"card-title\">Step 1: Selecting prediction Target</h2>\n",
    "<font size=4> As derived from our hypothesis, we would be using the audience ratings as the prediction target (column we want to predict)</font><br/>"
   ]
  },
  {
   "cell_type": "code",
   "execution_count": 25,
   "id": "informational-sitting",
   "metadata": {
    "execution": {
     "iopub.execute_input": "2021-05-17T16:09:29.771415Z",
     "iopub.status.busy": "2021-05-17T16:09:29.770570Z",
     "iopub.status.idle": "2021-05-17T16:09:29.774725Z",
     "shell.execute_reply": "2021-05-17T16:09:29.774163Z"
    },
    "papermill": {
     "duration": 0.063478,
     "end_time": "2021-05-17T16:09:29.774851",
     "exception": false,
     "start_time": "2021-05-17T16:09:29.711373",
     "status": "completed"
    },
    "tags": []
   },
   "outputs": [
    {
     "data": {
      "text/plain": [
       "original_release_date\n",
       "1915-12-31    56.000000\n",
       "1916-12-31    77.000000\n",
       "1919-12-31    71.000000\n",
       "1920-12-31    89.000000\n",
       "1921-12-31    95.000000\n",
       "                ...    \n",
       "2016-12-31    57.982639\n",
       "2017-12-31    60.332237\n",
       "2018-12-31    59.764179\n",
       "2019-12-31    58.373684\n",
       "2020-12-31    58.673469\n",
       "Name: audience_rating, Length: 103, dtype: float64"
      ]
     },
     "execution_count": 25,
     "metadata": {},
     "output_type": "execute_result"
    }
   ],
   "source": [
    "# y is the label for our prediction target\n",
    "y = dataSet.audience_rating\n",
    "y"
   ]
  },
  {
   "cell_type": "markdown",
   "id": "prerequisite-cleaner",
   "metadata": {
    "papermill": {
     "duration": 0.053494,
     "end_time": "2021-05-17T16:09:29.881530",
     "exception": false,
     "start_time": "2021-05-17T16:09:29.828036",
     "status": "completed"
    },
    "tags": []
   },
   "source": [
    "<h2 class=\"card-title\">Step 1: Choosing the feautures</h2>\n",
    "<font size=4> Feautures are the columns we want to use to predict out data. We would use three feautures sets.</font><br/>\n",
    "<font size=4> 1. The critics ratings better predict audience ratings</font><br/>\n",
    "<font size=4> 2. The critics ratings count better predict audience ratings </font><br/>\n",
    "<font size=4> 3. The content ratings better predicts audience ratings</font><br/>\n",
    "<font size=4> This sets would be names respectively; I (critics ratings), D (critics count), B (content ratings)</font><br/>"
   ]
  },
  {
   "cell_type": "code",
   "execution_count": 26,
   "id": "english-custom",
   "metadata": {
    "execution": {
     "iopub.execute_input": "2021-05-17T16:09:29.995166Z",
     "iopub.status.busy": "2021-05-17T16:09:29.994571Z",
     "iopub.status.idle": "2021-05-17T16:09:29.997882Z",
     "shell.execute_reply": "2021-05-17T16:09:29.997321Z"
    },
    "papermill": {
     "duration": 0.06241,
     "end_time": "2021-05-17T16:09:29.998015",
     "exception": false,
     "start_time": "2021-05-17T16:09:29.935605",
     "status": "completed"
    },
    "tags": []
   },
   "outputs": [],
   "source": [
    "I_predictors = dataSet[['tomatometer_rating']]\n",
    "D_predictors = dataSet[[\"critics_count\"]]\n",
    "B_predictors = dataSet[[\"content_rating\"]]"
   ]
  },
  {
   "cell_type": "markdown",
   "id": "military-keyboard",
   "metadata": {
    "papermill": {
     "duration": 0.052537,
     "end_time": "2021-05-17T16:09:30.103809",
     "exception": false,
     "start_time": "2021-05-17T16:09:30.051272",
     "status": "completed"
    },
    "tags": []
   },
   "source": [
    "<h2 class=\"card-title\">Step 3: Building the model & Using our model</h2>\n",
    "<font size=4> The respective steps in this procedure are</font><br/>\n",
    "<font size=4> 1. Defining our models. We already decided on using a decision tree regressor.</font><br/>\n",
    "<font size=4> 2. fiting our model</font><br/>\n",
    "<font size=4> 3. Using our models to predict.</font><br/>\n",
    "<font size=4> 3. Determining the accuracy of our models.</font><br/>"
   ]
  },
  {
   "cell_type": "code",
   "execution_count": 27,
   "id": "demonstrated-cheat",
   "metadata": {
    "execution": {
     "iopub.execute_input": "2021-05-17T16:09:30.216272Z",
     "iopub.status.busy": "2021-05-17T16:09:30.215676Z",
     "iopub.status.idle": "2021-05-17T16:09:30.615373Z",
     "shell.execute_reply": "2021-05-17T16:09:30.615798Z"
    },
    "papermill": {
     "duration": 0.45757,
     "end_time": "2021-05-17T16:09:30.615978",
     "exception": false,
     "start_time": "2021-05-17T16:09:30.158408",
     "status": "completed"
    },
    "tags": []
   },
   "outputs": [],
   "source": [
    "from sklearn.tree import DecisionTreeRegressor\n",
    "# defining our models\n",
    "I_model = DecisionTreeRegressor(random_state=1)\n",
    "D_model = DecisionTreeRegressor(random_state=1)\n",
    "B_model = DecisionTreeRegressor(random_state=1)"
   ]
  },
  {
   "cell_type": "code",
   "execution_count": 28,
   "id": "logical-dependence",
   "metadata": {
    "execution": {
     "iopub.execute_input": "2021-05-17T16:09:30.726448Z",
     "iopub.status.busy": "2021-05-17T16:09:30.725810Z",
     "iopub.status.idle": "2021-05-17T16:09:30.741457Z",
     "shell.execute_reply": "2021-05-17T16:09:30.740899Z"
    },
    "papermill": {
     "duration": 0.070492,
     "end_time": "2021-05-17T16:09:30.741587",
     "exception": false,
     "start_time": "2021-05-17T16:09:30.671095",
     "status": "completed"
    },
    "tags": []
   },
   "outputs": [
    {
     "data": {
      "text/plain": [
       "DecisionTreeRegressor(random_state=1)"
      ]
     },
     "execution_count": 28,
     "metadata": {},
     "output_type": "execute_result"
    }
   ],
   "source": [
    "\n",
    "# fitting out models\n",
    "I_model.fit(I_predictors, y)\n",
    "D_model.fit(D_predictors, y)\n",
    "B_model.fit(B_predictors, y)"
   ]
  },
  {
   "cell_type": "code",
   "execution_count": 29,
   "id": "israeli-freight",
   "metadata": {
    "execution": {
     "iopub.execute_input": "2021-05-17T16:09:30.865882Z",
     "iopub.status.busy": "2021-05-17T16:09:30.861721Z",
     "iopub.status.idle": "2021-05-17T16:09:30.887850Z",
     "shell.execute_reply": "2021-05-17T16:09:30.887366Z"
    },
    "papermill": {
     "duration": 0.092433,
     "end_time": "2021-05-17T16:09:30.888006",
     "exception": false,
     "start_time": "2021-05-17T16:09:30.795573",
     "status": "completed"
    },
    "tags": []
   },
   "outputs": [
    {
     "data": {
      "text/html": [
       "<div>\n",
       "<style scoped>\n",
       "    .dataframe tbody tr th:only-of-type {\n",
       "        vertical-align: middle;\n",
       "    }\n",
       "\n",
       "    .dataframe tbody tr th {\n",
       "        vertical-align: top;\n",
       "    }\n",
       "\n",
       "    .dataframe thead th {\n",
       "        text-align: right;\n",
       "    }\n",
       "</style>\n",
       "<table border=\"1\" class=\"dataframe\">\n",
       "  <thead>\n",
       "    <tr style=\"text-align: right;\">\n",
       "      <th></th>\n",
       "      <th>content_rating</th>\n",
       "      <th>critics_count</th>\n",
       "      <th>tomatometer_rating</th>\n",
       "      <th>critics_status</th>\n",
       "      <th>audience_count</th>\n",
       "      <th>audience_rating</th>\n",
       "      <th>audience_status</th>\n",
       "      <th>tomatometer_top_critics_count</th>\n",
       "      <th>critics_fresh_count</th>\n",
       "      <th>critics_rotten_count</th>\n",
       "      <th>audience_fresh_count</th>\n",
       "      <th>audience_rotten_count</th>\n",
       "      <th>I_predictions</th>\n",
       "      <th>D_predictions</th>\n",
       "      <th>B_predictions</th>\n",
       "    </tr>\n",
       "    <tr>\n",
       "      <th>original_release_date</th>\n",
       "      <th></th>\n",
       "      <th></th>\n",
       "      <th></th>\n",
       "      <th></th>\n",
       "      <th></th>\n",
       "      <th></th>\n",
       "      <th></th>\n",
       "      <th></th>\n",
       "      <th></th>\n",
       "      <th></th>\n",
       "      <th></th>\n",
       "      <th></th>\n",
       "      <th></th>\n",
       "      <th></th>\n",
       "      <th></th>\n",
       "    </tr>\n",
       "  </thead>\n",
       "  <tbody>\n",
       "    <tr>\n",
       "      <th>1915-12-31</th>\n",
       "      <td>4.000000</td>\n",
       "      <td>44.000000</td>\n",
       "      <td>93.000000</td>\n",
       "      <td>2.000000</td>\n",
       "      <td>4804.000000</td>\n",
       "      <td>56.000000</td>\n",
       "      <td>1.000000</td>\n",
       "      <td>7.000000</td>\n",
       "      <td>41.000000</td>\n",
       "      <td>3.000000</td>\n",
       "      <td>2690.240000</td>\n",
       "      <td>2113.760000</td>\n",
       "      <td>69.750000</td>\n",
       "      <td>71.800000</td>\n",
       "      <td>56.000000</td>\n",
       "    </tr>\n",
       "    <tr>\n",
       "      <th>1916-12-31</th>\n",
       "      <td>2.000000</td>\n",
       "      <td>37.000000</td>\n",
       "      <td>97.000000</td>\n",
       "      <td>2.000000</td>\n",
       "      <td>4908.000000</td>\n",
       "      <td>77.000000</td>\n",
       "      <td>2.000000</td>\n",
       "      <td>7.000000</td>\n",
       "      <td>36.000000</td>\n",
       "      <td>1.000000</td>\n",
       "      <td>3779.160000</td>\n",
       "      <td>1128.840000</td>\n",
       "      <td>83.866667</td>\n",
       "      <td>77.000000</td>\n",
       "      <td>78.796717</td>\n",
       "    </tr>\n",
       "    <tr>\n",
       "      <th>1919-12-31</th>\n",
       "      <td>1.000000</td>\n",
       "      <td>22.000000</td>\n",
       "      <td>95.000000</td>\n",
       "      <td>2.000000</td>\n",
       "      <td>3802.000000</td>\n",
       "      <td>71.000000</td>\n",
       "      <td>2.000000</td>\n",
       "      <td>5.000000</td>\n",
       "      <td>21.000000</td>\n",
       "      <td>1.000000</td>\n",
       "      <td>2699.420000</td>\n",
       "      <td>1102.580000</td>\n",
       "      <td>71.000000</td>\n",
       "      <td>71.000000</td>\n",
       "      <td>83.819697</td>\n",
       "    </tr>\n",
       "    <tr>\n",
       "      <th>1920-12-31</th>\n",
       "      <td>1.000000</td>\n",
       "      <td>62.000000</td>\n",
       "      <td>98.000000</td>\n",
       "      <td>2.000000</td>\n",
       "      <td>27748.000000</td>\n",
       "      <td>89.000000</td>\n",
       "      <td>2.000000</td>\n",
       "      <td>14.000000</td>\n",
       "      <td>62.000000</td>\n",
       "      <td>1.000000</td>\n",
       "      <td>24695.720000</td>\n",
       "      <td>3052.280000</td>\n",
       "      <td>89.761905</td>\n",
       "      <td>89.000000</td>\n",
       "      <td>83.819697</td>\n",
       "    </tr>\n",
       "    <tr>\n",
       "      <th>1921-12-31</th>\n",
       "      <td>1.000000</td>\n",
       "      <td>43.000000</td>\n",
       "      <td>100.000000</td>\n",
       "      <td>2.000000</td>\n",
       "      <td>15438.000000</td>\n",
       "      <td>95.000000</td>\n",
       "      <td>2.000000</td>\n",
       "      <td>7.000000</td>\n",
       "      <td>43.000000</td>\n",
       "      <td>0.000000</td>\n",
       "      <td>14666.100000</td>\n",
       "      <td>771.900000</td>\n",
       "      <td>95.000000</td>\n",
       "      <td>77.719246</td>\n",
       "      <td>83.819697</td>\n",
       "    </tr>\n",
       "    <tr>\n",
       "      <th>...</th>\n",
       "      <td>...</td>\n",
       "      <td>...</td>\n",
       "      <td>...</td>\n",
       "      <td>...</td>\n",
       "      <td>...</td>\n",
       "      <td>...</td>\n",
       "      <td>...</td>\n",
       "      <td>...</td>\n",
       "      <td>...</td>\n",
       "      <td>...</td>\n",
       "      <td>...</td>\n",
       "      <td>...</td>\n",
       "      <td>...</td>\n",
       "      <td>...</td>\n",
       "      <td>...</td>\n",
       "    </tr>\n",
       "    <tr>\n",
       "      <th>2016-12-31</th>\n",
       "      <td>4.003472</td>\n",
       "      <td>147.833333</td>\n",
       "      <td>63.003472</td>\n",
       "      <td>1.625000</td>\n",
       "      <td>21237.809028</td>\n",
       "      <td>57.982639</td>\n",
       "      <td>1.475694</td>\n",
       "      <td>32.031250</td>\n",
       "      <td>99.131944</td>\n",
       "      <td>48.826389</td>\n",
       "      <td>13897.471806</td>\n",
       "      <td>7340.337222</td>\n",
       "      <td>57.982639</td>\n",
       "      <td>57.982639</td>\n",
       "      <td>57.982639</td>\n",
       "    </tr>\n",
       "    <tr>\n",
       "      <th>2017-12-31</th>\n",
       "      <td>3.605263</td>\n",
       "      <td>148.157895</td>\n",
       "      <td>64.430921</td>\n",
       "      <td>1.628289</td>\n",
       "      <td>14989.697368</td>\n",
       "      <td>60.332237</td>\n",
       "      <td>1.549342</td>\n",
       "      <td>29.569079</td>\n",
       "      <td>101.947368</td>\n",
       "      <td>46.282895</td>\n",
       "      <td>10005.675197</td>\n",
       "      <td>4984.022171</td>\n",
       "      <td>60.332237</td>\n",
       "      <td>60.332237</td>\n",
       "      <td>60.332237</td>\n",
       "    </tr>\n",
       "    <tr>\n",
       "      <th>2018-12-31</th>\n",
       "      <td>3.764179</td>\n",
       "      <td>141.617910</td>\n",
       "      <td>64.844776</td>\n",
       "      <td>1.623881</td>\n",
       "      <td>3846.131343</td>\n",
       "      <td>59.764179</td>\n",
       "      <td>1.522388</td>\n",
       "      <td>26.059701</td>\n",
       "      <td>100.029851</td>\n",
       "      <td>41.635821</td>\n",
       "      <td>2647.529433</td>\n",
       "      <td>1198.601910</td>\n",
       "      <td>59.764179</td>\n",
       "      <td>59.764179</td>\n",
       "      <td>59.764179</td>\n",
       "    </tr>\n",
       "    <tr>\n",
       "      <th>2019-12-31</th>\n",
       "      <td>3.521053</td>\n",
       "      <td>100.426316</td>\n",
       "      <td>63.894737</td>\n",
       "      <td>1.610526</td>\n",
       "      <td>2739.842105</td>\n",
       "      <td>58.373684</td>\n",
       "      <td>1.473684</td>\n",
       "      <td>18.657895</td>\n",
       "      <td>67.357895</td>\n",
       "      <td>33.084211</td>\n",
       "      <td>1944.591368</td>\n",
       "      <td>795.250737</td>\n",
       "      <td>58.373684</td>\n",
       "      <td>58.373684</td>\n",
       "      <td>58.373684</td>\n",
       "    </tr>\n",
       "    <tr>\n",
       "      <th>2020-12-31</th>\n",
       "      <td>2.826531</td>\n",
       "      <td>77.204082</td>\n",
       "      <td>70.448980</td>\n",
       "      <td>1.714286</td>\n",
       "      <td>1731.214286</td>\n",
       "      <td>58.673469</td>\n",
       "      <td>1.551020</td>\n",
       "      <td>13.785714</td>\n",
       "      <td>56.428571</td>\n",
       "      <td>20.795918</td>\n",
       "      <td>1492.654082</td>\n",
       "      <td>238.560204</td>\n",
       "      <td>58.673469</td>\n",
       "      <td>58.673469</td>\n",
       "      <td>58.673469</td>\n",
       "    </tr>\n",
       "  </tbody>\n",
       "</table>\n",
       "<p>103 rows × 15 columns</p>\n",
       "</div>"
      ],
      "text/plain": [
       "                       content_rating  critics_count  tomatometer_rating  \\\n",
       "original_release_date                                                      \n",
       "1915-12-31                   4.000000      44.000000           93.000000   \n",
       "1916-12-31                   2.000000      37.000000           97.000000   \n",
       "1919-12-31                   1.000000      22.000000           95.000000   \n",
       "1920-12-31                   1.000000      62.000000           98.000000   \n",
       "1921-12-31                   1.000000      43.000000          100.000000   \n",
       "...                               ...            ...                 ...   \n",
       "2016-12-31                   4.003472     147.833333           63.003472   \n",
       "2017-12-31                   3.605263     148.157895           64.430921   \n",
       "2018-12-31                   3.764179     141.617910           64.844776   \n",
       "2019-12-31                   3.521053     100.426316           63.894737   \n",
       "2020-12-31                   2.826531      77.204082           70.448980   \n",
       "\n",
       "                       critics_status  audience_count  audience_rating  \\\n",
       "original_release_date                                                    \n",
       "1915-12-31                   2.000000     4804.000000        56.000000   \n",
       "1916-12-31                   2.000000     4908.000000        77.000000   \n",
       "1919-12-31                   2.000000     3802.000000        71.000000   \n",
       "1920-12-31                   2.000000    27748.000000        89.000000   \n",
       "1921-12-31                   2.000000    15438.000000        95.000000   \n",
       "...                               ...             ...              ...   \n",
       "2016-12-31                   1.625000    21237.809028        57.982639   \n",
       "2017-12-31                   1.628289    14989.697368        60.332237   \n",
       "2018-12-31                   1.623881     3846.131343        59.764179   \n",
       "2019-12-31                   1.610526     2739.842105        58.373684   \n",
       "2020-12-31                   1.714286     1731.214286        58.673469   \n",
       "\n",
       "                       audience_status  tomatometer_top_critics_count  \\\n",
       "original_release_date                                                   \n",
       "1915-12-31                    1.000000                       7.000000   \n",
       "1916-12-31                    2.000000                       7.000000   \n",
       "1919-12-31                    2.000000                       5.000000   \n",
       "1920-12-31                    2.000000                      14.000000   \n",
       "1921-12-31                    2.000000                       7.000000   \n",
       "...                                ...                            ...   \n",
       "2016-12-31                    1.475694                      32.031250   \n",
       "2017-12-31                    1.549342                      29.569079   \n",
       "2018-12-31                    1.522388                      26.059701   \n",
       "2019-12-31                    1.473684                      18.657895   \n",
       "2020-12-31                    1.551020                      13.785714   \n",
       "\n",
       "                       critics_fresh_count  critics_rotten_count  \\\n",
       "original_release_date                                              \n",
       "1915-12-31                       41.000000              3.000000   \n",
       "1916-12-31                       36.000000              1.000000   \n",
       "1919-12-31                       21.000000              1.000000   \n",
       "1920-12-31                       62.000000              1.000000   \n",
       "1921-12-31                       43.000000              0.000000   \n",
       "...                                    ...                   ...   \n",
       "2016-12-31                       99.131944             48.826389   \n",
       "2017-12-31                      101.947368             46.282895   \n",
       "2018-12-31                      100.029851             41.635821   \n",
       "2019-12-31                       67.357895             33.084211   \n",
       "2020-12-31                       56.428571             20.795918   \n",
       "\n",
       "                       audience_fresh_count  audience_rotten_count  \\\n",
       "original_release_date                                                \n",
       "1915-12-31                      2690.240000            2113.760000   \n",
       "1916-12-31                      3779.160000            1128.840000   \n",
       "1919-12-31                      2699.420000            1102.580000   \n",
       "1920-12-31                     24695.720000            3052.280000   \n",
       "1921-12-31                     14666.100000             771.900000   \n",
       "...                                     ...                    ...   \n",
       "2016-12-31                     13897.471806            7340.337222   \n",
       "2017-12-31                     10005.675197            4984.022171   \n",
       "2018-12-31                      2647.529433            1198.601910   \n",
       "2019-12-31                      1944.591368             795.250737   \n",
       "2020-12-31                      1492.654082             238.560204   \n",
       "\n",
       "                       I_predictions  D_predictions  B_predictions  \n",
       "original_release_date                                               \n",
       "1915-12-31                 69.750000      71.800000      56.000000  \n",
       "1916-12-31                 83.866667      77.000000      78.796717  \n",
       "1919-12-31                 71.000000      71.000000      83.819697  \n",
       "1920-12-31                 89.761905      89.000000      83.819697  \n",
       "1921-12-31                 95.000000      77.719246      83.819697  \n",
       "...                              ...            ...            ...  \n",
       "2016-12-31                 57.982639      57.982639      57.982639  \n",
       "2017-12-31                 60.332237      60.332237      60.332237  \n",
       "2018-12-31                 59.764179      59.764179      59.764179  \n",
       "2019-12-31                 58.373684      58.373684      58.373684  \n",
       "2020-12-31                 58.673469      58.673469      58.673469  \n",
       "\n",
       "[103 rows x 15 columns]"
      ]
     },
     "execution_count": 29,
     "metadata": {},
     "output_type": "execute_result"
    }
   ],
   "source": [
    "#making predictions for our table data \n",
    "dataSet['I_predictions'] = I_model.predict(I_predictors)\n",
    "dataSet['D_predictions'] = D_model.predict(D_predictors)\n",
    "dataSet['B_predictions'] = B_model.predict(B_predictors)\n",
    "dataSet"
   ]
  },
  {
   "cell_type": "code",
   "execution_count": 30,
   "id": "coastal-staff",
   "metadata": {
    "execution": {
     "iopub.execute_input": "2021-05-17T16:09:31.007965Z",
     "iopub.status.busy": "2021-05-17T16:09:31.007129Z",
     "iopub.status.idle": "2021-05-17T16:09:31.013181Z",
     "shell.execute_reply": "2021-05-17T16:09:31.012545Z"
    },
    "papermill": {
     "duration": 0.071079,
     "end_time": "2021-05-17T16:09:31.013430",
     "exception": false,
     "start_time": "2021-05-17T16:09:30.942351",
     "status": "completed"
    },
    "tags": []
   },
   "outputs": [
    {
     "name": "stdout",
     "output_type": "stream",
     "text": [
      "The error for critics rating as best predictor is  0.6961772411229863\n",
      "The error for critics rating count as best predictor is  1.0631645862228387\n",
      "The error for content rating as best predictor is  1.703985257347547\n"
     ]
    },
    {
     "data": {
      "text/plain": [
       "<Figure size 1008x432 with 0 Axes>"
      ]
     },
     "metadata": {},
     "output_type": "display_data"
    }
   ],
   "source": [
    "from sklearn.metrics import mean_absolute_error\n",
    "\n",
    "# Validating our predictions using mean absolute error\n",
    "plt.figure(figsize=(14,6))\n",
    "error_I_predictions = mean_absolute_error(y, dataSet.I_predictions)\n",
    "error_D_predictions = mean_absolute_error(y, dataSet.D_predictions)\n",
    "error_B_predictions = mean_absolute_error(y, dataSet.B_predictions)\n",
    "\n",
    "# printing results \n",
    "print(\"The error for critics rating as best predictor is \", error_I_predictions)\n",
    "print(\"The error for critics rating count as best predictor is \", error_D_predictions)\n",
    "print(\"The error for content rating as best predictor is \", error_B_predictions)\n"
   ]
  },
  {
   "cell_type": "markdown",
   "id": "discrete-barrier",
   "metadata": {
    "papermill": {
     "duration": 0.054285,
     "end_time": "2021-05-17T16:09:31.122676",
     "exception": false,
     "start_time": "2021-05-17T16:09:31.068391",
     "status": "completed"
    },
    "tags": []
   },
   "source": [
    "\n",
    "<div class=\"text-center text-primary card-title\">\n",
    "    <hr/>\n",
    "    <h1 id=\"introduction\">7. Data Interpretation</h1>\n",
    "    <hr/>\n",
    "</div>"
   ]
  },
  {
   "cell_type": "markdown",
   "id": "exotic-money",
   "metadata": {
    "papermill": {
     "duration": 0.054605,
     "end_time": "2021-05-17T16:09:31.232240",
     "exception": false,
     "start_time": "2021-05-17T16:09:31.177635",
     "status": "completed"
    },
    "tags": []
   },
   "source": [
    "<h2 class=\"card-title\"> Expectations Vs Results</h2>\n",
    "<font size=4> Awesome, As expected, the critics ratings scores are the best predictors of audience sentiment towards a movie. Null hypothesis rejected.  So despite what is out there in the media, You're most likely going to enjoy a movie if you go with the critics ratings. So what are you waiting for? go get your tickets!! or disney subscriptions!! </font><br/>"
   ]
  },
  {
   "cell_type": "markdown",
   "id": "passive-march",
   "metadata": {
    "papermill": {
     "duration": 0.054072,
     "end_time": "2021-05-17T16:09:31.340979",
     "exception": false,
     "start_time": "2021-05-17T16:09:31.286907",
     "status": "completed"
    },
    "tags": []
   },
   "source": [
    "<h2 class=\"card-title\"> What next?</h2>\n",
    "<font size=4>Times are changing (as indicated in the exploratory analysis), and the relationship between critics and audience scores are either weakining or reversing (post year 2000 data). So, as a challenge, you may consider running this model on more recent years inorder to estimate the changing prediction strength of the critics ratings.</font><br/>\n",
    "<font size=4>It's been a pleasure walking through this data analysis tutorial with you.</font><br/>"
   ]
  },
  {
   "cell_type": "markdown",
   "id": "boxed-custom",
   "metadata": {
    "papermill": {
     "duration": 0.053996,
     "end_time": "2021-05-17T16:09:31.449402",
     "exception": false,
     "start_time": "2021-05-17T16:09:31.395406",
     "status": "completed"
    },
    "tags": []
   },
   "source": [
    "\n",
    "<div class=\"text-center text-primary card-title\">\n",
    "    <hr/>\n",
    "    <h1 id=\"introduction\">8. Additional Resources</h1>\n",
    "    <hr/>\n",
    "</div>"
   ]
  },
  {
   "cell_type": "markdown",
   "id": "polyphonic-funds",
   "metadata": {
    "papermill": {
     "duration": 0.054113,
     "end_time": "2021-05-17T16:09:31.558507",
     "exception": false,
     "start_time": "2021-05-17T16:09:31.504394",
     "status": "completed"
    },
    "tags": []
   },
   "source": [
    "<font size=4>1.Quick Guide to Rotten Tomatoes Rating System: (Independent) (https://www.studiobinder.com/blog/rotten-tomatoes-ratings-system/)</font><br/>\n"
   ]
  },
  {
   "cell_type": "markdown",
   "id": "angry-clinic",
   "metadata": {
    "papermill": {
     "duration": 0.059904,
     "end_time": "2021-05-17T16:09:31.675549",
     "exception": false,
     "start_time": "2021-05-17T16:09:31.615645",
     "status": "completed"
    },
    "tags": []
   },
   "source": [
    "<font size=4>2. Quick Guide to Rotten Tomatoes Rating System: (Self-Reported) </a> (https://www.rottentomatoes.com/about)</font><br/>\n"
   ]
  },
  {
   "cell_type": "markdown",
   "id": "subtle-corrections",
   "metadata": {
    "papermill": {
     "duration": 0.060312,
     "end_time": "2021-05-17T16:09:31.812841",
     "exception": false,
     "start_time": "2021-05-17T16:09:31.752529",
     "status": "completed"
    },
    "tags": []
   },
   "source": [
    "<font size=4>3. Rotten Tomatoes is biased towards mediocre movies: (Blog)  (https://screenrant.com/joker-proves-rotten-tomatoes-is-biased-toward-mediocre-movies/)</font><br/>\n"
   ]
  },
  {
   "cell_type": "markdown",
   "id": "laden-binding",
   "metadata": {
    "papermill": {
     "duration": 0.0549,
     "end_time": "2021-05-17T16:09:31.922065",
     "exception": false,
     "start_time": "2021-05-17T16:09:31.867165",
     "status": "completed"
    },
    "tags": []
   },
   "source": [
    "<font size=4>4. Why Rotten Tomatoes is Garbage: (Controversial Analysis)  (https://www.youtube.com/watch?v=Fwns8Ospf0A)</font><br/>\n"
   ]
  },
  {
   "cell_type": "markdown",
   "id": "gothic-tablet",
   "metadata": {
    "papermill": {
     "duration": 0.054572,
     "end_time": "2021-05-17T16:09:32.031351",
     "exception": false,
     "start_time": "2021-05-17T16:09:31.976779",
     "status": "completed"
    },
    "tags": []
   },
   "source": [
    "<font size=4>5. Rotten Tomatoes Is A Fine Site, But You're Using It Wrong: (Analysis)  (https://www.forbes.com/sites/scottmendelson/2019/02/27/rotten-tomatoes-captain-marvel-star-wars-last-jedi-ghostbusters-disney-box-office/?sh=2f1e807417aa)</font><br/>\n"
   ]
  },
  {
   "cell_type": "markdown",
   "id": "continuous-remains",
   "metadata": {
    "papermill": {
     "duration": 0.054842,
     "end_time": "2021-05-17T16:09:32.140931",
     "exception": false,
     "start_time": "2021-05-17T16:09:32.086089",
     "status": "completed"
    },
    "tags": []
   },
   "source": [
    "<font size=4>6. Rotten Tomatoes is based on bad statistics: (Analysis)  (https://qz.com/quartzy/1518240/rotten-tomatoes-is-based-on-bad-statistics-use-metacritic-instead/)</font><br/>\n"
   ]
  },
  {
   "cell_type": "markdown",
   "id": "speaking-network",
   "metadata": {
    "papermill": {
     "duration": 0.054062,
     "end_time": "2021-05-17T16:09:32.249342",
     "exception": false,
     "start_time": "2021-05-17T16:09:32.195280",
     "status": "completed"
    },
    "tags": []
   },
   "source": [
    "<font size=4>7. Behind the Scenes at Rotten Tomatoes: (Analysis)  (https://www.wired.com/story/behind-the-scenes-rotten-tomatoes/)</font><br/>\n"
   ]
  }
 ],
 "metadata": {
  "kernelspec": {
   "display_name": "Python 3",
   "language": "python",
   "name": "python3"
  },
  "language_info": {
   "codemirror_mode": {
    "name": "ipython",
    "version": 3
   },
   "file_extension": ".py",
   "mimetype": "text/x-python",
   "name": "python",
   "nbconvert_exporter": "python",
   "pygments_lexer": "ipython3",
   "version": "3.7.10"
  },
  "papermill": {
   "default_parameters": {},
   "duration": 21.890119,
   "end_time": "2021-05-17T16:09:33.611642",
   "environment_variables": {},
   "exception": null,
   "input_path": "__notebook__.ipynb",
   "output_path": "__notebook__.ipynb",
   "parameters": {},
   "start_time": "2021-05-17T16:09:11.721523",
   "version": "2.3.3"
  }
 },
 "nbformat": 4,
 "nbformat_minor": 5
}
